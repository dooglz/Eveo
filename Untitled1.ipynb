{
 "cells": [
  {
   "cell_type": "code",
   "execution_count": 7,
   "id": "ab8dd3ee-a7e9-4d41-8525-aac946474c4e",
   "metadata": {},
   "outputs": [
    {
     "name": "stdout",
     "output_type": "stream",
     "text": [
      "study      {'Tier': 4, 'Makes': 1.0, 'Needs': [('freezer', 6.0), ('leek', 6.0), ('blep', 6.0)], 'Name': 'study', 'Value': 1522471}\n",
      "fact       {'Tier': 4, 'Makes': 1.0, 'Needs': [('system', 6.0), ('tea', 6.0), ('woof', 6.0)], 'Name': 'fact', 'Value': 1591112}\n",
      "trap       {'Tier': 4, 'Makes': 1.0, 'Needs': [('mop', 6.0), ('day', 40.0), ('cheeck', 6.0)], 'Name': 'trap', 'Value': 714524}\n",
      "artic      {'Tier': 4, 'Makes': 1.0, 'Needs': [('carrot', 6.0), ('family', 40.0), ('icecream', 6.0)], 'Name': 'artic', 'Value': 747123}\n",
      "apple      {'Tier': 4, 'Makes': 1.0, 'Needs': [('man', 6.0), ('eye', 6.0), ('bank', 6.0)], 'Name': 'apple', 'Value': 1008806}\n",
      "whimwham   {'Tier': 4, 'Makes': 1.0, 'Needs': [('pizza', 6.0), ('bogey', 6.0), ('time', 6.0)], 'Name': 'whimwham', 'Value': 1436729}\n",
      "double     {'Tier': 4, 'Makes': 1.0, 'Needs': [('loose', 6.0), ('year', 40.0), ('school', 6.0)], 'Name': 'double', 'Value': 964380}\n",
      "cookie     {'Tier': 4, 'Makes': 1.0, 'Needs': [('hogglebot', 6.0), ('rnjesus', 6.0), ('thing', 6.0)], 'Name': 'cookie', 'Value': 1613720}\n",
      " \n",
      "carrot     {'Tier': 3, 'Makes': 3.0, 'Needs': [('pigeon', 10.0), ('fridge', 10.0)], 'Name': 'carrot', 'Value': 36754}\n",
      "pizza      {'Tier': 3, 'Makes': 3.0, 'Needs': [('boat', 10.0), ('pinse', 10.0)], 'Name': 'pizza', 'Value': 62456}\n",
      "man        {'Tier': 3, 'Makes': 3.0, 'Needs': [('mother', 10.0), ('area', 10.0)], 'Name': 'man', 'Value': 72915}\n",
      "system     {'Tier': 3, 'Makes': 3.0, 'Needs': [('pigeon', 10.0), ('water', 10.0), ('ship', 10.0)], 'Name': 'system', 'Value': 97890}\n",
      "hogglebot  {'Tier': 3, 'Makes': 3.0, 'Needs': [('gruel', 10.0), ('fridge', 10.0), ('world', 10.0)], 'Name': 'hogglebot', 'Value': 86088}\n",
      "loose      {'Tier': 3, 'Makes': 3.0, 'Needs': [('xanthum', 10.0), ('money', 10.0)], 'Name': 'loose', 'Value': 58403}\n",
      "bogey      {'Tier': 3, 'Makes': 3.0, 'Needs': [('mince', 10.0), ('child', 10.0)], 'Name': 'bogey', 'Value': 59418}\n",
      "freezer    {'Tier': 3, 'Makes': 3.0, 'Needs': [('water', 10.0), ('boat', 10.0)], 'Name': 'freezer', 'Value': 61925}\n",
      "rnjesus    {'Tier': 3, 'Makes': 3.0, 'Needs': [('jug', 10.0), ('crab', 10.0), ('xanthum', 10.0)], 'Name': 'rnjesus', 'Value': 63772}\n",
      "mop        {'Tier': 3, 'Makes': 3.0, 'Needs': [('hose', 10.0), ('salmon', 10.0)], 'Name': 'mop', 'Value': 38749}\n",
      "time       {'Tier': 3, 'Makes': 3.0, 'Needs': [('rugged', 10.0), ('scat', 10.0)], 'Name': 'time', 'Value': 78229}\n",
      "tea        {'Tier': 3, 'Makes': 3.0, 'Needs': [('salmon', 10.0), ('case', 10.0), ('hand', 10.0)], 'Name': 'tea', 'Value': 59119}\n",
      "thing      {'Tier': 3, 'Makes': 3.0, 'Needs': [('area', 10.0), ('story', 10.0), ('hose', 10.0)], 'Name': 'thing', 'Value': 103051}\n",
      "eye        {'Tier': 3, 'Makes': 3.0, 'Needs': [('gruel', 10.0), ('hand', 10.0)], 'Name': 'eye', 'Value': 61262}\n",
      "woof       {'Tier': 3, 'Makes': 3.0, 'Needs': [('mother', 10.0), ('rip', 10.0), ('money', 10.0)], 'Name': 'woof', 'Value': 71298}\n",
      "icecream   {'Tier': 3, 'Makes': 3.0, 'Needs': [('rip', 10.0), ('world', 10.0)], 'Name': 'icecream', 'Value': 61618}\n",
      "bank       {'Tier': 3, 'Makes': 3.0, 'Needs': [('water', 10.0), ('jug', 10.0)], 'Name': 'bank', 'Value': 62920}\n",
      "cheeck     {'Tier': 3, 'Makes': 3.0, 'Needs': [('story', 10.0), ('ship', 10.0)], 'Name': 'cheeck', 'Value': 76121}\n",
      "leek       {'Tier': 3, 'Makes': 3.0, 'Needs': [('mother', 10.0), ('child', 10.0)], 'Name': 'leek', 'Value': 75633}\n",
      "blep       {'Tier': 3, 'Makes': 3.0, 'Needs': [('rugged', 10.0), ('hand', 10.0)], 'Name': 'blep', 'Value': 73757}\n",
      "school     {'Tier': 3, 'Makes': 3.0, 'Needs': [('crab', 10.0), ('case', 10.0)], 'Name': 'school', 'Value': 46815}\n",
      " \n",
      "mince      {'Tier': 2, 'Makes': 5.0, 'Needs': [('charlie', 40.0), ('party', 40.0)], 'Name': 'mince', 'Value': 9110}\n",
      "mother     {'Tier': 2, 'Makes': 5.0, 'Needs': [('biscuit', 40.0), ('stick', 40.0)], 'Name': 'mother', 'Value': 8840}\n",
      "pigeon     {'Tier': 2, 'Makes': 5.0, 'Needs': [('room', 40.0), ('biscuit', 40.0)], 'Name': 'pigeon', 'Value': 5675}\n",
      "area       {'Tier': 2, 'Makes': 5.0, 'Needs': [('family', 40.0), ('year', 40.0)], 'Name': 'area', 'Value': 4966}\n",
      "rugged     {'Tier': 2, 'Makes': 5.0, 'Needs': [('room', 40.0), ('rice', 40.0)], 'Name': 'rugged', 'Value': 10228}\n",
      "child      {'Tier': 2, 'Makes': 5.0, 'Needs': [('rice', 40.0), ('whammy', 40.0)], 'Name': 'child', 'Value': 11095}\n",
      "gruel      {'Tier': 2, 'Makes': 5.0, 'Needs': [('day', 40.0), ('year', 40.0)], 'Name': 'gruel', 'Value': 4246}\n",
      "water      {'Tier': 2, 'Makes': 5.0, 'Needs': [('crisp', 40.0), ('charlie', 40.0)], 'Name': 'water', 'Value': 6473}\n",
      "jug        {'Tier': 2, 'Makes': 5.0, 'Needs': [('family', 40.0), ('day', 40.0)], 'Name': 'jug', 'Value': 4857}\n",
      "rip        {'Tier': 2, 'Makes': 5.0, 'Needs': [('day', 40.0), ('charlie', 40.0)], 'Name': 'rip', 'Value': 7561}\n",
      "story      {'Tier': 2, 'Makes': 5.0, 'Needs': [('shovel', 40.0), ('biscuit', 40.0)], 'Name': 'story', 'Value': 7739}\n",
      "hose       {'Tier': 2, 'Makes': 5.0, 'Needs': [('family', 40.0), ('melt', 40.0)], 'Name': 'hose', 'Value': 7954}\n",
      "salmon     {'Tier': 2, 'Makes': 5.0, 'Needs': [('crisp', 40.0), ('rice', 40.0)], 'Name': 'salmon', 'Value': 3921}\n",
      "boat       {'Tier': 2, 'Makes': 5.0, 'Needs': [('room', 40.0), ('whammy', 40.0)], 'Name': 'boat', 'Value': 10726}\n",
      "crab       {'Tier': 2, 'Makes': 5.0, 'Needs': [('melt', 40.0), ('crisp', 40.0)], 'Name': 'crab', 'Value': 7181}\n",
      "case       {'Tier': 2, 'Makes': 5.0, 'Needs': [('family', 40.0), ('stick', 40.0)], 'Name': 'case', 'Value': 5417}\n",
      "xanthum    {'Tier': 2, 'Makes': 5.0, 'Needs': [('day', 40.0), ('party', 40.0)], 'Name': 'xanthum', 'Value': 6578}\n",
      "pinse      {'Tier': 2, 'Makes': 5.0, 'Needs': [('truck', 40.0), ('shovel', 40.0)], 'Name': 'pinse', 'Value': 9186}\n",
      "fridge     {'Tier': 2, 'Makes': 5.0, 'Needs': [('shovel', 40.0), ('year', 40.0)], 'Name': 'fridge', 'Value': 9941}\n",
      "world      {'Tier': 2, 'Makes': 5.0, 'Needs': [('party', 40.0), ('marble', 40.0)], 'Name': 'world', 'Value': 5953}\n",
      "ship       {'Tier': 2, 'Makes': 5.0, 'Needs': [('truck', 40.0), ('year', 40.0)], 'Name': 'ship', 'Value': 7824}\n",
      "hand       {'Tier': 2, 'Makes': 5.0, 'Needs': [('truck', 40.0), ('marble', 40.0)], 'Name': 'hand', 'Value': 8643}\n",
      "money      {'Tier': 2, 'Makes': 5.0, 'Needs': [('marble', 40.0), ('whammy', 40.0)], 'Name': 'money', 'Value': 9506}\n",
      "scat       {'Tier': 2, 'Makes': 5.0, 'Needs': [('melt', 40.0), ('stick', 40.0)], 'Name': 'scat', 'Value': 7251}\n",
      " \n",
      "truck      {'Tier': 1, 'Makes': 40.0, 'Needs': [('quad', 6000.0)], 'Name': 'truck', 'Value': 324}\n",
      "shovel     {'Tier': 1, 'Makes': 40.0, 'Needs': [('microwave', 6000.0)], 'Name': 'shovel', 'Value': 304}\n",
      "room       {'Tier': 1, 'Makes': 40.0, 'Needs': [('bone', 6000.0)], 'Name': 'room', 'Value': 485}\n",
      "family     {'Tier': 1, 'Makes': 40.0, 'Needs': [('hooch', 6000.0)], 'Name': 'family', 'Value': 570}\n",
      "melt       {'Tier': 1, 'Makes': 40.0, 'Needs': [('tuna', 6000.0)], 'Name': 'melt', 'Value': 992}\n",
      "crisp      {'Tier': 1, 'Makes': 40.0, 'Needs': [('business', 6000.0)], 'Name': 'crisp', 'Value': 151}\n",
      "rice       {'Tier': 1, 'Makes': 40.0, 'Needs': [('woman', 6000.0)], 'Name': 'rice', 'Value': 700}\n",
      "day        {'Tier': 1, 'Makes': 40.0, 'Needs': [('number', 6000.0)], 'Name': 'day', 'Value': 257}\n",
      "charlie    {'Tier': 1, 'Makes': 40.0, 'Needs': [('ice', 6000.0)], 'Name': 'charlie', 'Value': 405}\n",
      "party      {'Tier': 1, 'Makes': 40.0, 'Needs': [('wealth', 6000.0)], 'Name': 'party', 'Value': 244}\n",
      "marble     {'Tier': 1, 'Makes': 40.0, 'Needs': [('goober', 6000.0)], 'Name': 'marble', 'Value': 439}\n",
      "year       {'Tier': 1, 'Makes': 40.0, 'Needs': [('moped', 6000.0)], 'Name': 'year', 'Value': 590}\n",
      "biscuit    {'Tier': 1, 'Makes': 40.0, 'Needs': [('fire', 6000.0)], 'Name': 'biscuit', 'Value': 597}\n",
      "stick      {'Tier': 1, 'Makes': 40.0, 'Needs': [('deep', 6000.0)], 'Name': 'stick', 'Value': 424}\n",
      "whammy     {'Tier': 1, 'Makes': 40.0, 'Needs': [('people', 6000.0)], 'Name': 'whammy', 'Value': 610}\n"
     ]
    }
   ],
   "source": [
    "NounTree\n",
    "lasttech = 4\n",
    "for p in list(sorted(list(NounTree.values()),key=lambda thing:(-thing[\"Tier\"]), reverse=False )):\n",
    "    if(not p[\"Tier\"] == lasttech): print(\" \")\n",
    "    lasttech = p[\"Tier\"] \n",
    "    print(p['Name'].ljust(10),p)"
   ]
  },
  {
   "cell_type": "code",
   "execution_count": 8,
   "id": "c337671b-c53a-4b23-a20a-1e53fae7d095",
   "metadata": {},
   "outputs": [
    {
     "data": {
      "text/plain": [
       "{'Tier': 1,\n",
       " 'Makes': 40.0,\n",
       " 'Needs': [('microwave', 6000.0)],\n",
       " 'Name': 'shovel',\n",
       " 'Value': 304}"
      ]
     },
     "execution_count": 8,
     "metadata": {},
     "output_type": "execute_result"
    }
   ],
   "source": [
    "NounTree[\"shovel\"]"
   ]
  },
  {
   "cell_type": "code",
   "execution_count": 15,
   "id": "4909c083-a772-4a54-9377-37adf7b69d22",
   "metadata": {},
   "outputs": [
    {
     "data": {
      "text/plain": [
       "[('BUY', [{'microwave': 6000.0}]),\n",
       " ('MAKE', [{'shovel': 40}]),\n",
       " ('SELL', [{'shovel': 40}])]"
      ]
     },
     "execution_count": 15,
     "metadata": {},
     "output_type": "execute_result"
    }
   ],
   "source": [
    "ExampleRecipe1=[Buy('microwave',6000.0),Make(\"shovel\",40),Sell(\"shovel\",40)]\n",
    "ExampleRecipe1"
   ]
  },
  {
   "cell_type": "code",
   "execution_count": 44,
   "id": "717124cd-e549-4834-aed1-cfcf2f0a71d4",
   "metadata": {
    "scrolled": true,
    "tags": []
   },
   "outputs": [
    {
     "data": {
      "text/plain": [
       "{'Tier': 4,\n",
       " 'Makes': 1.0,\n",
       " 'Needs': [('freezer', 6.0), ('leek', 6.0), ('blep', 6.0)],\n",
       " 'Name': 'study',\n",
       " 'Value': 1522471}"
      ]
     },
     "execution_count": 44,
     "metadata": {},
     "output_type": "execute_result"
    }
   ],
   "source": [
    "ItemsThatNeedMade = Teirs[4]\n",
    "ItemsThatNeedMade[0]"
   ]
  },
  {
   "cell_type": "code",
   "execution_count": 18,
   "id": "91a9dcfd-c463-4050-a67b-14125bca398e",
   "metadata": {},
   "outputs": [
    {
     "data": {
      "text/plain": [
       "[('BUY', [{'freezer': 6.0, 'leek': 6.0, 'blep': 6.0}]),\n",
       " ('MAKE', [{'study': 1}]),\n",
       " ('SELL', [{'study': 1}])]"
      ]
     },
     "execution_count": 18,
     "metadata": {},
     "output_type": "execute_result"
    }
   ],
   "source": [
    "ExampleRecipe2 = [Buy({'freezer': 6.0, 'leek': 6.0, 'blep': 6.0}), Make(\"study\",1), Sell(\"study\",1)]\n",
    "ExampleRecipe2"
   ]
  },
  {
   "cell_type": "code",
   "execution_count": 22,
   "id": "1e63ce2f-d6c5-4266-bdcc-1433bef0a69c",
   "metadata": {},
   "outputs": [
    {
     "data": {
      "text/plain": [
       "{'Tier': 3,\n",
       " 'Makes': 3.0,\n",
       " 'Needs': [('mother', 10.0), ('child', 10.0)],\n",
       " 'Name': 'leek',\n",
       " 'Value': 75633}"
      ]
     },
     "execution_count": 22,
     "metadata": {},
     "output_type": "execute_result"
    }
   ],
   "source": [
    "\n",
    "\n",
    "NounTree[\"leek\"]"
   ]
  },
  {
   "cell_type": "code",
   "execution_count": 21,
   "id": "175ea503-36d5-4e95-9a78-e68f9dbe5a0e",
   "metadata": {},
   "outputs": [
    {
     "data": {
      "text/plain": [
       "{'Tier': 4,\n",
       " 'Makes': 1.0,\n",
       " 'Needs': [('freezer', 6.0), ('leek', 6.0), ('blep', 6.0)],\n",
       " 'Name': 'study',\n",
       " 'Value': 1522471}"
      ]
     },
     "execution_count": 21,
     "metadata": {},
     "output_type": "execute_result"
    }
   ],
   "source": [
    "NounTree[\"study\"]"
   ]
  },
  {
   "cell_type": "code",
   "execution_count": 23,
   "id": "aebce8e9-3722-46bc-8da2-3c07b1c1ed62",
   "metadata": {},
   "outputs": [
    {
     "data": {
      "text/plain": [
       "[('BUY',\n",
       "  [{'freezer': 6.0, '_leek': {'mother': 10.0, 'child': 10.0}, 'blep': 6.0}]),\n",
       " ('MAKE', [{'leek': 6}]),\n",
       " ('MAKE', [{'study': 1}]),\n",
       " ('SELL', [{'study': 1}])]"
      ]
     },
     "execution_count": 23,
     "metadata": {},
     "output_type": "execute_result"
    }
   ],
   "source": [
    "ExampleRecipe3=[Buy({'freezer': 6.0, '_leek': {'mother': 10.0, 'child': 10.0}, 'blep': 6.0}), Make(\"leek\",6), Make(\"study\",1), Sell(\"study\",1)]\n",
    "ExampleRecipe3"
   ]
  },
  {
   "cell_type": "code",
   "execution_count": 76,
   "id": "367b097c-85e8-4494-a0d0-d9f2fae39df1",
   "metadata": {},
   "outputs": [
    {
     "data": {
      "text/plain": [
       "{'Makes': [('leek', 6), ('study', 2)],\n",
       " 'Sells': [('study', 4)],\n",
       " 'Buys': {'mother': 60.0,\n",
       "  'child': 60.0,\n",
       "  'freezer': 12.0,\n",
       "  'leek': 6.0,\n",
       "  'blep': 12.0}}"
      ]
     },
     "execution_count": 76,
     "metadata": {},
     "output_type": "execute_result"
    }
   ],
   "source": [
    "\n",
    "\n",
    "\n",
    "#Acutally don't need to specify buys, we only need to specify the Makes, anything not made, must be bought.\n",
    "\n",
    "ExampleRecipe4 = [Make(\"study\",1), Sell(\"study\",1) ]\n",
    "\n",
    "ExampleRecipe4 = {'Makes':[ (\"leek\", 6), (\"study\",2)],\n",
    "                  'Sells':[ (\"study\",4)] \n",
    "                 }\n",
    "\n",
    "\n",
    "def ResolveNeeds(Recipe):\n",
    "    buys = {}\n",
    "    for make in Recipe['Makes']:\n",
    "        needs =  NounTree[make[0]]['Needs']\n",
    "        for need in needs:\n",
    "            if type(need) == type(dict()):\n",
    "                buys.append(ResolveNeeds(need))\n",
    "            else:\n",
    "                buys[need[0]] = buys.get(need[0], 0)+(need[1]*make[1])\n",
    "    return buys  \n",
    "\n",
    "def ResolveBuys(Recipe):\n",
    "    buys = ResolveNeeds(Recipe)\n",
    "    #Remove Makes\n",
    "    for make in Recipe['Makes']:\n",
    "        if make[0] in buys:\n",
    "            buys[make[0]] -= make[1]\n",
    "    #remove 0s\n",
    "    buys = dict(map(lambda p: (p,buys[p]),list(filter(lambda x:buys[x],buys))))\n",
    "    return buys\n",
    "\n",
    "        \n",
    "ExampleRecipe4[\"Buys\"]= ResolveBuys(ExampleRecipe4)\n",
    "ExampleRecipe4             \n",
    "                      "
   ]
  },
  {
   "cell_type": "code",
   "execution_count": 42,
   "id": "730d91b7-06ee-46dd-a12b-b28cd21b76b2",
   "metadata": {},
   "outputs": [
    {
     "data": {
      "text/plain": [
       "{'Makes': [('leek', 6), ('study', 2)],\n",
       " 'Sells': [('study', 4)],\n",
       " 'Buys': {'mother': 60.0,\n",
       "  'child': 60.0,\n",
       "  'freezer': 12.0,\n",
       "  'leek': 6.0,\n",
       "  'blep': 12.0}}"
      ]
     },
     "execution_count": 42,
     "metadata": {},
     "output_type": "execute_result"
    }
   ],
   "source": [
    "ExampleRecipe4"
   ]
  },
  {
   "cell_type": "code",
   "execution_count": 169,
   "id": "54823382-281e-47fd-9ae5-b74370b1c851",
   "metadata": {},
   "outputs": [
    {
     "data": {
      "text/plain": [
       "{'Tier': 4,\n",
       " 'Makes': 1.0,\n",
       " 'Needs': [('pizza', 6.0), ('bogey', 6.0), ('time', 6.0)],\n",
       " 'Name': 'whimwham',\n",
       " 'Value': 1436729}"
      ]
     },
     "execution_count": 169,
     "metadata": {},
     "output_type": "execute_result"
    }
   ],
   "source": [
    "#nounTearnoun Tiwer number Name@     Needs=ingredients\n",
    "bob = NounTree[Teirs[4][5][\"Name\"]]\n",
    "bob"
   ]
  },
  {
   "cell_type": "code",
   "execution_count": 78,
   "id": "1699a953-b99d-4cb7-97ce-0b9a2ebdd705",
   "metadata": {},
   "outputs": [
    {
     "data": {
      "text/plain": [
       "{'Makes': [('whimwham', 1)],\n",
       " 'Sells': [('whimwham', 1)],\n",
       " 'Buys': {'pizza': 6.0, 'bogey': 6.0, 'time': 6.0}}"
      ]
     },
     "execution_count": 78,
     "metadata": {},
     "output_type": "execute_result"
    }
   ],
   "source": [
    "bob = {'Makes':[ (\"whimwham\",1)],'Sells':[ (\"whimwham\",1)]}\n",
    "bob[\"Buys\"] = ResolveBuys(bob)\n",
    "bob"
   ]
  },
  {
   "cell_type": "code",
   "execution_count": 166,
   "id": "84718aa0-833a-4c0d-8506-e7be5c6fdcff",
   "metadata": {},
   "outputs": [
    {
     "data": {
      "text/plain": [
       "<function __main__.createBob()>"
      ]
     },
     "execution_count": 166,
     "metadata": {},
     "output_type": "execute_result"
    }
   ],
   "source": [
    "# i wan diff blobs in bob and many bobs\n",
    "spices = NounTree['whimwham']['Needs']\n",
    "spices\n",
    "\n",
    "def createBob():\n",
    "    bob = {'Makes':[ (\"whimwham\",1)],'Sells':[ (\"whimwham\",1)]}\n",
    "    return bob\n",
    "\n",
    "\n",
    "\n",
    "\n",
    "createBob\n"
   ]
  },
  {
   "cell_type": "code",
   "execution_count": 256,
   "id": "709f8b55-891a-45b6-8b62-494d18080469",
   "metadata": {},
   "outputs": [],
   "source": [
    "spices\n",
    "TC = {'R':\"\\x1b[31m\",'C':\"\\x1b[0m\",'G':\"\\x1b[32;46m\",'Y':\"\\x1b[33m\",'BG':\"\\x1b[92m\",'M':\"\\x1b[95m\"}"
   ]
  },
  {
   "cell_type": "code",
   "execution_count": 265,
   "id": "ea433080-cf48-45f9-880b-1d9d84731f14",
   "metadata": {},
   "outputs": [],
   "source": [
    "cols = list(TC.keys())"
   ]
  },
  {
   "cell_type": "code",
   "execution_count": 280,
   "id": "ac4b64cb-b2f6-4377-ab6b-eb0202d15dc5",
   "metadata": {},
   "outputs": [
    {
     "name": "stdout",
     "output_type": "stream",
     "text": [
      "\u001b[32;46mwoo i am onnn number = \u001b[0m 0\n",
      "False we need to mmmmmmake mince\n",
      "mince requires:  [('charlie', 40.0), ('party', 40.0)]\n",
      "\u001b[33mcharlie\u001b[0m\n",
      "\u001b[33mwoo i am onnn number = \u001b[0m 1\n",
      "\u001b[33mBUY \u001b[0m {'Tier': 1, 'Makes': 40.0, 'Needs': [('ice', 6000.0)], 'Name': 'charlie', 'Value': 405} \u001b[33m NOW!\u001b[0m\n",
      "\u001b[33mparty\u001b[0m\n",
      "\u001b[33mwoo i am onnn number = \u001b[0m 1\n",
      "\u001b[33mBUY \u001b[0m {'Tier': 1, 'Makes': 40.0, 'Needs': [('wealth', 6000.0)], 'Name': 'party', 'Value': 244} \u001b[33m NOW!\u001b[0m\n",
      "\u001b[32;46mBUY \u001b[0m charlie \u001b[32;46m NOW!\u001b[0m\n",
      "\u001b[32;46mBUY \u001b[0m party \u001b[32;46m NOW!\u001b[0m\n"
     ]
    },
    {
     "data": {
      "text/plain": [
       "[({'Tier': 2,\n",
       "   'Makes': 5.0,\n",
       "   'Needs': [('charlie', 40.0), ('party', 40.0)],\n",
       "   'Name': 'mince',\n",
       "   'Value': 9110},\n",
       "  False),\n",
       " ('charlie', 40.0),\n",
       " ('party', 40.0)]"
      ]
     },
     "execution_count": 280,
     "metadata": {},
     "output_type": "execute_result"
    }
   ],
   "source": [
    "totallistofitems =[]\n",
    "totallistofitems= list(NounTree.values())\n",
    "\n",
    "recepitcal = []\n",
    "col = 2\n",
    "def recep(inBob, inBuy, inDent=0):\n",
    "    # tuple of madlink and boolBUY\n",
    "    items=[]\n",
    "    item = (inBob, inBuy)\n",
    "    items.append(item)\n",
    "    print(pi.TCM(\"woo i am onnn number = \", cols[col+inDent]), inDent)\n",
    "    \n",
    "    for item in items:\n",
    "        # item is a tuple, 0n 1 false\n",
    "        # handwriting the first of four 00 01 10 11\n",
    "        if item[1] is False:\n",
    "            nom = item[0]['Name']\n",
    "            ingredients = item[0][\"Needs\"]\n",
    "            print (\"False we need to mmmmmmake\", nom)\n",
    "            print (nom,\"requires: \", ingredients)\n",
    "            \n",
    "            # the ingredient list needs to be added to either the buy or the make listtooo\n",
    "            for dent in ingredients:\n",
    "                items.append(dent)\n",
    "                print(pi.TCM(dent[0],\"Y\"))\n",
    "                \n",
    "                # if lowest tier\n",
    "                if(dent[0] not in NounTree): \n",
    "                    print(\"not in yer tree\")\n",
    "                    recep(NounTree[dent[0]],False, -7)\n",
    "                    #items.append()\n",
    "                    \n",
    "                else:\n",
    "                    ininDent = inDent + 1\n",
    "                    recep(NounTree[dent[0]],True,ininDent)\n",
    "                    #items.append(dent[-1:])\n",
    "        else:\n",
    "           print(pi.TCM(\"BUY \", cols[col+inDent]),item[0],pi.TCM(\" NOW!\", cols[col+inDent]))\n",
    "            \n",
    "    \n",
    "    return items\n",
    "    \n",
    "recep(totallistofitems[0],False, 0)\n",
    "\n"
   ]
  },
  {
   "cell_type": "markdown",
   "id": "ce7fa23d-470a-44d3-af8e-689faa588c5a",
   "metadata": {},
   "source": [
    "# totallistofitems[5]\n",
    "({'Tier': 2,\n",
    "   'Makes': 5.0,\n",
    "   'Needs': [('charlie', 40.0), ('party', 40.0)],\n",
    "   'Name': 'mince',\n",
    "   'Value': 9110},\n",
    "  False)\n",
    "\n",
    "{'Tier': 2,\n",
    " 'Makes': 5.0,\n",
    " 'Needs': [('rice', 40.0), ('whammy', 40.0)],\n",
    " 'Name': 'child',\n",
    " 'Value': 11095}"
   ]
  },
  {
   "cell_type": "code",
   "execution_count": 274,
   "id": "f15e8352-a1e0-4f2b-89a1-ab1fa830d742",
   "metadata": {},
   "outputs": [
    {
     "name": "stdout",
     "output_type": "stream",
     "text": [
      "\u001b[31mwoo i am onnn number = \u001b[0m 0\n",
      "False we need to mmmmmmake room\n",
      "room requires:  [('bone', 6000.0)]\n",
      "\u001b[33mbone\u001b[0m\n",
      "not in yer tree\n"
     ]
    },
    {
     "ename": "KeyError",
     "evalue": "'bone'",
     "output_type": "error",
     "traceback": [
      "\u001b[0;31m---------------------------------------------------------------------------\u001b[0m",
      "\u001b[0;31mKeyError\u001b[0m                                  Traceback (most recent call last)",
      "\u001b[0;32m/var/folders/86/2wpb80hn3gb9zg29c7xggqy40000gn/T/ipykernel_36837/4150521702.py\u001b[0m in \u001b[0;36m<module>\u001b[0;34m\u001b[0m\n\u001b[0;32m----> 1\u001b[0;31m \u001b[0mrecep\u001b[0m\u001b[0;34m(\u001b[0m\u001b[0mtotallistofitems\u001b[0m\u001b[0;34m[\u001b[0m\u001b[0;36m23\u001b[0m\u001b[0;34m]\u001b[0m\u001b[0;34m,\u001b[0m \u001b[0;32mFalse\u001b[0m\u001b[0;34m)\u001b[0m\u001b[0;34m\u001b[0m\u001b[0;34m\u001b[0m\u001b[0m\n\u001b[0m",
      "\u001b[0;32m/var/folders/86/2wpb80hn3gb9zg29c7xggqy40000gn/T/ipykernel_36837/29009456.py\u001b[0m in \u001b[0;36mrecep\u001b[0;34m(inBob, inBuy, inDent)\u001b[0m\n\u001b[1;32m     27\u001b[0m                 \u001b[0;32mif\u001b[0m\u001b[0;34m(\u001b[0m\u001b[0mdent\u001b[0m\u001b[0;34m[\u001b[0m\u001b[0;36m0\u001b[0m\u001b[0;34m]\u001b[0m \u001b[0;32mnot\u001b[0m \u001b[0;32min\u001b[0m \u001b[0mNounTree\u001b[0m\u001b[0;34m)\u001b[0m\u001b[0;34m:\u001b[0m\u001b[0;34m\u001b[0m\u001b[0;34m\u001b[0m\u001b[0m\n\u001b[1;32m     28\u001b[0m                     \u001b[0mprint\u001b[0m\u001b[0;34m(\u001b[0m\u001b[0;34m\"not in yer tree\"\u001b[0m\u001b[0;34m)\u001b[0m\u001b[0;34m\u001b[0m\u001b[0;34m\u001b[0m\u001b[0m\n\u001b[0;32m---> 29\u001b[0;31m                     \u001b[0mrecep\u001b[0m\u001b[0;34m(\u001b[0m\u001b[0mNounTree\u001b[0m\u001b[0;34m[\u001b[0m\u001b[0mdent\u001b[0m\u001b[0;34m[\u001b[0m\u001b[0;36m0\u001b[0m\u001b[0;34m]\u001b[0m\u001b[0;34m]\u001b[0m\u001b[0;34m,\u001b[0m\u001b[0;32mFalse\u001b[0m\u001b[0;34m,\u001b[0m \u001b[0;34m-\u001b[0m\u001b[0;36m7\u001b[0m\u001b[0;34m)\u001b[0m\u001b[0;34m\u001b[0m\u001b[0;34m\u001b[0m\u001b[0m\n\u001b[0m\u001b[1;32m     30\u001b[0m                     \u001b[0;31m#items.append()\u001b[0m\u001b[0;34m\u001b[0m\u001b[0;34m\u001b[0m\u001b[0;34m\u001b[0m\u001b[0m\n\u001b[1;32m     31\u001b[0m \u001b[0;34m\u001b[0m\u001b[0m\n",
      "\u001b[0;31mKeyError\u001b[0m: 'bone'"
     ]
    }
   ],
   "source": [
    "recep(totallistofitems[23], False)"
   ]
  },
  {
   "cell_type": "code",
   "execution_count": 275,
   "id": "d1bfc241-d5c6-4285-8124-912e32e5cebd",
   "metadata": {},
   "outputs": [
    {
     "name": "stdout",
     "output_type": "stream",
     "text": [
      "\u001b[31mwoo i am onnn number = \u001b[0m 0\n",
      "False we need to mmmmmmake artic\n",
      "artic requires:  [('carrot', 6.0), ('family', 40.0), ('icecream', 6.0)]\n",
      "\u001b[33mcarrot\u001b[0m\n",
      "\u001b[0mwoo i am onnn number = \u001b[0m 1\n",
      "\u001b[31mBUY \u001b[0m {'Tier': 3, 'Makes': 3.0, 'Needs': [('pigeon', 10.0), ('fridge', 10.0)], 'Name': 'carrot', 'Value': 36754} \u001b[31m NOW!\u001b[0m\n",
      "\u001b[33mfamily\u001b[0m\n",
      "\u001b[0mwoo i am onnn number = \u001b[0m 1\n",
      "\u001b[31mBUY \u001b[0m {'Tier': 1, 'Makes': 40.0, 'Needs': [('hooch', 6000.0)], 'Name': 'family', 'Value': 570} \u001b[31m NOW!\u001b[0m\n",
      "\u001b[33micecream\u001b[0m\n",
      "\u001b[0mwoo i am onnn number = \u001b[0m 1\n",
      "\u001b[31mBUY \u001b[0m {'Tier': 3, 'Makes': 3.0, 'Needs': [('rip', 10.0), ('world', 10.0)], 'Name': 'icecream', 'Value': 61618} \u001b[31m NOW!\u001b[0m\n",
      "\u001b[31mBUY \u001b[0m carrot \u001b[31m NOW!\u001b[0m\n",
      "\u001b[31mBUY \u001b[0m family \u001b[31m NOW!\u001b[0m\n",
      "\u001b[31mBUY \u001b[0m icecream \u001b[31m NOW!\u001b[0m\n"
     ]
    },
    {
     "data": {
      "text/plain": [
       "[({'Tier': 4,\n",
       "   'Makes': 1.0,\n",
       "   'Needs': [('carrot', 6.0), ('family', 40.0), ('icecream', 6.0)],\n",
       "   'Name': 'artic',\n",
       "   'Value': 747123},\n",
       "  False),\n",
       " ('carrot', 6.0),\n",
       " ('family', 40.0),\n",
       " ('icecream', 6.0)]"
      ]
     },
     "execution_count": 275,
     "metadata": {},
     "output_type": "execute_result"
    }
   ],
   "source": [
    "recep(NounTree[Teirs[4][3][\"Name\"]], False)"
   ]
  },
  {
   "cell_type": "code",
   "execution_count": 252,
   "id": "327e158c-1112-47de-bb53-5c9d125fdb46",
   "metadata": {},
   "outputs": [
    {
     "data": {
      "text/plain": [
       "{'Tier': 1,\n",
       " 'Makes': 40.0,\n",
       " 'Needs': [('ice', 6000.0)],\n",
       " 'Name': 'charlie',\n",
       " 'Value': 405}"
      ]
     },
     "execution_count": 252,
     "metadata": {},
     "output_type": "execute_result"
    }
   ],
   "source": [
    "NounTree[\"charlie\"]"
   ]
  },
  {
   "cell_type": "code",
   "execution_count": 173,
   "id": "8dee32ff-9eeb-469f-839e-98ada41d70ba",
   "metadata": {},
   "outputs": [
    {
     "ename": "IndentationError",
     "evalue": "unexpected indent (2231319372.py, line 2)",
     "output_type": "error",
     "traceback": [
      "\u001b[0;36m  File \u001b[0;32m\"/var/folders/86/2wpb80hn3gb9zg29c7xggqy40000gn/T/ipykernel_36837/2231319372.py\"\u001b[0;36m, line \u001b[0;32m2\u001b[0m\n\u001b[0;31m    -                lkkk noun --\u001b[0m\n\u001b[0m    ^\u001b[0m\n\u001b[0;31mIndentationError\u001b[0m\u001b[0;31m:\u001b[0m unexpected indent\n"
     ]
    }
   ],
   "source": [
    "-----------pppython                                          --------------\n",
    " -                lkkk noun --            ----noungnn -------             noun\n",
    "                            ***vervb? ----\n",
    "                                    ----"
   ]
  },
  {
   "cell_type": "code",
   "execution_count": 175,
   "id": "84414a16-e0af-4e84-be35-4fda1910a0f4",
   "metadata": {},
   "outputs": [
    {
     "name": "stdout",
     "output_type": "stream",
     "text": [
      "('monkey', 1)\n"
     ]
    }
   ],
   "source": [
    "\n",
    "#####bbrrrr \n",
    "def returnTo(a):\n",
    "    print(a)\n",
    "    \n",
    "nouns = [(\"monkey\",1)]\n",
    "\n",
    "returnTo(noun)"
   ]
  },
  {
   "cell_type": "code",
   "execution_count": 218,
   "id": "31ee2dcb-07d5-43e7-8677-1ad4f53faaed",
   "metadata": {},
   "outputs": [
    {
     "ename": "SyntaxError",
     "evalue": "invalid syntax (3466344477.py, line 1)",
     "output_type": "error",
     "traceback": [
      "\u001b[0;36m  File \u001b[0;32m\"/var/folders/86/2wpb80hn3gb9zg29c7xggqy40000gn/T/ipykernel_36837/3466344477.py\"\u001b[0;36m, line \u001b[0;32m1\u001b[0m\n\u001b[0;31m    ('monkey', 1) = noun = type(Noun) = L\"EnglishNoun\" = tuple\u001b[0m\n\u001b[0m                                         ^\u001b[0m\n\u001b[0;31mSyntaxError\u001b[0m\u001b[0;31m:\u001b[0m invalid syntax\n"
     ]
    }
   ],
   "source": [
    "('monkey', 1) = noun = type(Noun) = L\"EnglishNoun\" = tuple"
   ]
  },
  {
   "cell_type": "code",
   "execution_count": 219,
   "id": "0d8cdf37-736d-4872-ac55-637c1534bad0",
   "metadata": {},
   "outputs": [
    {
     "ename": "AttributeError",
     "evalue": "module 'Pi_Models' has no attribute 'TPM'",
     "output_type": "error",
     "traceback": [
      "\u001b[0;31m---------------------------------------------------------------------------\u001b[0m",
      "\u001b[0;31mAttributeError\u001b[0m                            Traceback (most recent call last)",
      "\u001b[0;32m/var/folders/86/2wpb80hn3gb9zg29c7xggqy40000gn/T/ipykernel_36837/1870231771.py\u001b[0m in \u001b[0;36m<module>\u001b[0;34m\u001b[0m\n\u001b[0;32m----> 1\u001b[0;31m \u001b[0mpi\u001b[0m\u001b[0;34m.\u001b[0m\u001b[0mTPM\u001b[0m\u001b[0;34m\u001b[0m\u001b[0;34m\u001b[0m\u001b[0m\n\u001b[0m",
      "\u001b[0;31mAttributeError\u001b[0m: module 'Pi_Models' has no attribute 'TPM'"
     ]
    }
   ],
   "source": [
    "pi.TPM"
   ]
  },
  {
   "cell_type": "code",
   "execution_count": 220,
   "id": "917b0941-6c1a-4a0b-be57-579489f41d1e",
   "metadata": {},
   "outputs": [
    {
     "ename": "AttributeError",
     "evalue": "module 'Pi_Models' has no attribute 'help'",
     "output_type": "error",
     "traceback": [
      "\u001b[0;31m---------------------------------------------------------------------------\u001b[0m",
      "\u001b[0;31mAttributeError\u001b[0m                            Traceback (most recent call last)",
      "\u001b[0;32m/var/folders/86/2wpb80hn3gb9zg29c7xggqy40000gn/T/ipykernel_36837/711320816.py\u001b[0m in \u001b[0;36m<module>\u001b[0;34m\u001b[0m\n\u001b[0;32m----> 1\u001b[0;31m \u001b[0mpi\u001b[0m\u001b[0;34m.\u001b[0m\u001b[0mhelp\u001b[0m\u001b[0;34m\u001b[0m\u001b[0;34m\u001b[0m\u001b[0m\n\u001b[0m",
      "\u001b[0;31mAttributeError\u001b[0m: module 'Pi_Models' has no attribute 'help'"
     ]
    }
   ],
   "source": [
    "pi.help"
   ]
  },
  {
   "cell_type": "code",
   "execution_count": null,
   "id": "f4f31d78-8e4f-4fc4-8ae6-f8b5f9501e9c",
   "metadata": {},
   "outputs": [],
   "source": [
    "help(dict)"
   ]
  },
  {
   "cell_type": "code",
   "execution_count": 345,
   "id": "bbd787e4-fc17-4167-9792-b609ddccb500",
   "metadata": {},
   "outputs": [
    {
     "name": "stdout",
     "output_type": "stream",
     "text": [
      "\u001b[31madadsaf\u001b[0m\n"
     ]
    }
   ],
   "source": [
    "print(pi.TCM(\"adadsaf\",\"R\"))\n",
    "import math\n",
    "from copy import deepcopy"
   ]
  },
  {
   "cell_type": "code",
   "execution_count": 362,
   "id": "637aebeb-9093-4374-a9c8-98911e8aca8f",
   "metadata": {
    "scrolled": true,
    "tags": []
   },
   "outputs": [
    {
     "name": "stdout",
     "output_type": "stream",
     "text": [
      "Making:  study Posible spices: [('freezer', 6.0), ('leek', 6.0), ('blep', 6.0)]\n",
      "Making:  study Posible spices: [('freezer', 6.0), ('leek', 6.0), ('blep', 6.0)]\n",
      "Making:  freezer Posible spices: [('water', 10.0), ('boat', 10.0)]\n",
      "Making:  study Posible spices: [('freezer', 6.0), ('leek', 6.0), ('blep', 6.0)]\n",
      "Making:  leek Posible spices: [('mother', 10.0), ('child', 10.0)]\n",
      "Making:  study Posible spices: [('freezer', 6.0), ('leek', 6.0), ('blep', 6.0)]\n",
      "Making:  freezer Posible spices: [('water', 10.0), ('boat', 10.0)]\n",
      "Making:  leek Posible spices: [('mother', 10.0), ('child', 10.0)]\n",
      "Making:  study Posible spices: [('freezer', 6.0), ('leek', 6.0), ('blep', 6.0)]\n",
      "Making:  blep Posible spices: [('rugged', 10.0), ('hand', 10.0)]\n",
      "Making:  study Posible spices: [('freezer', 6.0), ('leek', 6.0), ('blep', 6.0)]\n",
      "Making:  freezer Posible spices: [('water', 10.0), ('boat', 10.0)]\n",
      "Making:  blep Posible spices: [('rugged', 10.0), ('hand', 10.0)]\n"
     ]
    },
    {
     "data": {
      "text/plain": [
       "[{'Makes': [('study', 1), ('freezer', 6.0)], 'Sells': [('study', 1)]},\n",
       " {'Makes': [('study', 1), ('leek', 6.0)], 'Sells': [('study', 1)]},\n",
       " {'Makes': [('study', 1), ('freezer', 6.0), ('leek', 6.0)],\n",
       "  'Sells': [('study', 1)]},\n",
       " {'Makes': [('study', 1), ('blep', 6.0)], 'Sells': [('study', 1)]},\n",
       " {'Makes': [('study', 1), ('freezer', 6.0), ('blep', 6.0)],\n",
       "  'Sells': [('study', 1)]},\n",
       " {'Makes': [('study', 1), ('leek', 6.0), ('blep', 6.0)],\n",
       "  'Sells': [('study', 1)]},\n",
       " {'Makes': [('study', 1), ('freezer', 6.0), ('leek', 6.0), ('blep', 6.0)],\n",
       "  'Sells': [('study', 1)]},\n",
       " {'Makes': [('study', 1), ('freezer', 6.0), ('freezer', 6.0)],\n",
       "  'Sells': [('study', 1)]},\n",
       " {'Makes': [('study', 1), ('freezer', 6.0), ('leek', 6.0)],\n",
       "  'Sells': [('study', 1)]},\n",
       " {'Makes': [('study', 1), ('freezer', 6.0), ('freezer', 6.0), ('leek', 6.0)],\n",
       "  'Sells': [('study', 1)]},\n",
       " {'Makes': [('study', 1), ('freezer', 6.0), ('blep', 6.0)],\n",
       "  'Sells': [('study', 1)]},\n",
       " {'Makes': [('study', 1), ('freezer', 6.0), ('freezer', 6.0), ('blep', 6.0)],\n",
       "  'Sells': [('study', 1)]},\n",
       " {'Makes': [('study', 1), ('freezer', 6.0), ('leek', 6.0), ('blep', 6.0)],\n",
       "  'Sells': [('study', 1)]},\n",
       " {'Makes': [('study', 1),\n",
       "   ('freezer', 6.0),\n",
       "   ('freezer', 6.0),\n",
       "   ('leek', 6.0),\n",
       "   ('blep', 6.0)],\n",
       "  'Sells': [('study', 1)]},\n",
       " {'Makes': [('study', 1), ('freezer', 6.0), ('water', 10.0)],\n",
       "  'Sells': [('study', 1)]},\n",
       " {'Makes': [('study', 1), ('freezer', 6.0), ('boat', 10.0)],\n",
       "  'Sells': [('study', 1)]},\n",
       " {'Makes': [('study', 1), ('freezer', 6.0), ('water', 10.0), ('boat', 10.0)],\n",
       "  'Sells': [('study', 1)]},\n",
       " {'Makes': [('study', 1), ('leek', 6.0), ('freezer', 6.0)],\n",
       "  'Sells': [('study', 1)]},\n",
       " {'Makes': [('study', 1), ('leek', 6.0), ('leek', 6.0)],\n",
       "  'Sells': [('study', 1)]},\n",
       " {'Makes': [('study', 1), ('leek', 6.0), ('freezer', 6.0), ('leek', 6.0)],\n",
       "  'Sells': [('study', 1)]},\n",
       " {'Makes': [('study', 1), ('leek', 6.0), ('blep', 6.0)],\n",
       "  'Sells': [('study', 1)]},\n",
       " {'Makes': [('study', 1), ('leek', 6.0), ('freezer', 6.0), ('blep', 6.0)],\n",
       "  'Sells': [('study', 1)]},\n",
       " {'Makes': [('study', 1), ('leek', 6.0), ('leek', 6.0), ('blep', 6.0)],\n",
       "  'Sells': [('study', 1)]},\n",
       " {'Makes': [('study', 1),\n",
       "   ('leek', 6.0),\n",
       "   ('freezer', 6.0),\n",
       "   ('leek', 6.0),\n",
       "   ('blep', 6.0)],\n",
       "  'Sells': [('study', 1)]},\n",
       " {'Makes': [('study', 1), ('leek', 6.0), ('mother', 10.0)],\n",
       "  'Sells': [('study', 1)]},\n",
       " {'Makes': [('study', 1), ('leek', 6.0), ('child', 10.0)],\n",
       "  'Sells': [('study', 1)]},\n",
       " {'Makes': [('study', 1), ('leek', 6.0), ('mother', 10.0), ('child', 10.0)],\n",
       "  'Sells': [('study', 1)]},\n",
       " {'Makes': [('study', 1), ('freezer', 6.0), ('leek', 6.0), ('freezer', 6.0)],\n",
       "  'Sells': [('study', 1)]},\n",
       " {'Makes': [('study', 1), ('freezer', 6.0), ('leek', 6.0), ('leek', 6.0)],\n",
       "  'Sells': [('study', 1)]},\n",
       " {'Makes': [('study', 1),\n",
       "   ('freezer', 6.0),\n",
       "   ('leek', 6.0),\n",
       "   ('freezer', 6.0),\n",
       "   ('leek', 6.0)],\n",
       "  'Sells': [('study', 1)]},\n",
       " {'Makes': [('study', 1), ('freezer', 6.0), ('leek', 6.0), ('blep', 6.0)],\n",
       "  'Sells': [('study', 1)]},\n",
       " {'Makes': [('study', 1),\n",
       "   ('freezer', 6.0),\n",
       "   ('leek', 6.0),\n",
       "   ('freezer', 6.0),\n",
       "   ('blep', 6.0)],\n",
       "  'Sells': [('study', 1)]},\n",
       " {'Makes': [('study', 1),\n",
       "   ('freezer', 6.0),\n",
       "   ('leek', 6.0),\n",
       "   ('leek', 6.0),\n",
       "   ('blep', 6.0)],\n",
       "  'Sells': [('study', 1)]},\n",
       " {'Makes': [('study', 1),\n",
       "   ('freezer', 6.0),\n",
       "   ('leek', 6.0),\n",
       "   ('freezer', 6.0),\n",
       "   ('leek', 6.0),\n",
       "   ('blep', 6.0)],\n",
       "  'Sells': [('study', 1)]},\n",
       " {'Makes': [('study', 1), ('freezer', 6.0), ('leek', 6.0), ('water', 10.0)],\n",
       "  'Sells': [('study', 1)]},\n",
       " {'Makes': [('study', 1), ('freezer', 6.0), ('leek', 6.0), ('boat', 10.0)],\n",
       "  'Sells': [('study', 1)]},\n",
       " {'Makes': [('study', 1),\n",
       "   ('freezer', 6.0),\n",
       "   ('leek', 6.0),\n",
       "   ('water', 10.0),\n",
       "   ('boat', 10.0)],\n",
       "  'Sells': [('study', 1)]},\n",
       " {'Makes': [('study', 1), ('freezer', 6.0), ('leek', 6.0), ('mother', 10.0)],\n",
       "  'Sells': [('study', 1)]},\n",
       " {'Makes': [('study', 1), ('freezer', 6.0), ('leek', 6.0), ('child', 10.0)],\n",
       "  'Sells': [('study', 1)]},\n",
       " {'Makes': [('study', 1),\n",
       "   ('freezer', 6.0),\n",
       "   ('leek', 6.0),\n",
       "   ('mother', 10.0),\n",
       "   ('child', 10.0)],\n",
       "  'Sells': [('study', 1)]},\n",
       " {'Makes': [('study', 1), ('blep', 6.0), ('freezer', 6.0)],\n",
       "  'Sells': [('study', 1)]},\n",
       " {'Makes': [('study', 1), ('blep', 6.0), ('leek', 6.0)],\n",
       "  'Sells': [('study', 1)]},\n",
       " {'Makes': [('study', 1), ('blep', 6.0), ('freezer', 6.0), ('leek', 6.0)],\n",
       "  'Sells': [('study', 1)]},\n",
       " {'Makes': [('study', 1), ('blep', 6.0), ('blep', 6.0)],\n",
       "  'Sells': [('study', 1)]},\n",
       " {'Makes': [('study', 1), ('blep', 6.0), ('freezer', 6.0), ('blep', 6.0)],\n",
       "  'Sells': [('study', 1)]},\n",
       " {'Makes': [('study', 1), ('blep', 6.0), ('leek', 6.0), ('blep', 6.0)],\n",
       "  'Sells': [('study', 1)]},\n",
       " {'Makes': [('study', 1),\n",
       "   ('blep', 6.0),\n",
       "   ('freezer', 6.0),\n",
       "   ('leek', 6.0),\n",
       "   ('blep', 6.0)],\n",
       "  'Sells': [('study', 1)]},\n",
       " {'Makes': [('study', 1), ('blep', 6.0), ('rugged', 10.0)],\n",
       "  'Sells': [('study', 1)]},\n",
       " {'Makes': [('study', 1), ('blep', 6.0), ('hand', 10.0)],\n",
       "  'Sells': [('study', 1)]},\n",
       " {'Makes': [('study', 1), ('blep', 6.0), ('rugged', 10.0), ('hand', 10.0)],\n",
       "  'Sells': [('study', 1)]},\n",
       " {'Makes': [('study', 1), ('freezer', 6.0), ('blep', 6.0), ('freezer', 6.0)],\n",
       "  'Sells': [('study', 1)]},\n",
       " {'Makes': [('study', 1), ('freezer', 6.0), ('blep', 6.0), ('leek', 6.0)],\n",
       "  'Sells': [('study', 1)]},\n",
       " {'Makes': [('study', 1),\n",
       "   ('freezer', 6.0),\n",
       "   ('blep', 6.0),\n",
       "   ('freezer', 6.0),\n",
       "   ('leek', 6.0)],\n",
       "  'Sells': [('study', 1)]},\n",
       " {'Makes': [('study', 1), ('freezer', 6.0), ('blep', 6.0), ('blep', 6.0)],\n",
       "  'Sells': [('study', 1)]},\n",
       " {'Makes': [('study', 1),\n",
       "   ('freezer', 6.0),\n",
       "   ('blep', 6.0),\n",
       "   ('freezer', 6.0),\n",
       "   ('blep', 6.0)],\n",
       "  'Sells': [('study', 1)]},\n",
       " {'Makes': [('study', 1),\n",
       "   ('freezer', 6.0),\n",
       "   ('blep', 6.0),\n",
       "   ('leek', 6.0),\n",
       "   ('blep', 6.0)],\n",
       "  'Sells': [('study', 1)]},\n",
       " {'Makes': [('study', 1),\n",
       "   ('freezer', 6.0),\n",
       "   ('blep', 6.0),\n",
       "   ('freezer', 6.0),\n",
       "   ('leek', 6.0),\n",
       "   ('blep', 6.0)],\n",
       "  'Sells': [('study', 1)]},\n",
       " {'Makes': [('study', 1), ('freezer', 6.0), ('blep', 6.0), ('water', 10.0)],\n",
       "  'Sells': [('study', 1)]},\n",
       " {'Makes': [('study', 1), ('freezer', 6.0), ('blep', 6.0), ('boat', 10.0)],\n",
       "  'Sells': [('study', 1)]},\n",
       " {'Makes': [('study', 1),\n",
       "   ('freezer', 6.0),\n",
       "   ('blep', 6.0),\n",
       "   ('water', 10.0),\n",
       "   ('boat', 10.0)],\n",
       "  'Sells': [('study', 1)]},\n",
       " {'Makes': [('study', 1), ('freezer', 6.0), ('blep', 6.0), ('rugged', 10.0)],\n",
       "  'Sells': [('study', 1)]},\n",
       " {'Makes': [('study', 1), ('freezer', 6.0), ('blep', 6.0), ('hand', 10.0)],\n",
       "  'Sells': [('study', 1)]},\n",
       " {'Makes': [('study', 1),\n",
       "   ('freezer', 6.0),\n",
       "   ('blep', 6.0),\n",
       "   ('rugged', 10.0),\n",
       "   ('hand', 10.0)],\n",
       "  'Sells': [('study', 1)]}]"
      ]
     },
     "execution_count": 362,
     "metadata": {},
     "output_type": "execute_result"
    }
   ],
   "source": [
    "ExampleRecipe9 = {'Makes':[ (\"leek\", 6), (\"study\",1)],\n",
    "   'Sells':[ (\"study\",1)] }\n",
    "\n",
    "\n",
    "def walk(itemBob,outList,depthLimit,currentParent):\n",
    "    baseline = {\"Makes\":[(itemBob[\"Name\"],itemBob[\"Makes\"])],\"Sells\":[(itemBob[\"Name\"],itemBob[\"Makes\"])]}\n",
    "    #outList.append(baseline.copy())\n",
    "    itemSpices = itemBob[\"Needs\"]\n",
    "    spiceCount = len(itemSpices)\n",
    "    currentRecipe = baseline.copy()\n",
    "    \n",
    "    maxcombo = int(math.pow(2,spiceCount))\n",
    "    print(\"Making: \",itemBob[\"Name\"],\"Posible spices:\",itemSpices,)\n",
    "    \n",
    "    for I in range(1,maxcombo):\n",
    "        #currentRecipe = {\"Makes\":[(itemBob[\"Name\"],itemBob[\"Makes\"])],\"Sells\":[(itemBob[\"Name\"],itemBob[\"Makes\"])]}\n",
    "        currentRecipe= deepcopy(currentParent)\n",
    "        for idx, spice in enumerate(itemSpices):\n",
    "            mask = int(math.pow(2,(idx)))\n",
    "            #print(I,mask,I & mask,(I & mask)>0)\n",
    "            if I & mask:\n",
    "                currentRecipe[\"Makes\"].append(spice)\n",
    "        #print(str(I).ljust(10),currentRecipe)\n",
    "        outList.append(currentRecipe)\n",
    "    \n",
    "    #for I in range(0,spiceCount):\n",
    "    #    for J in range(I,spiceCount):      \n",
    "     #       print(I,J)\n",
    "\n",
    "\n",
    "study = Teirs[4][0]\n",
    "recipies = []\n",
    "depthLimit = 2\n",
    "walk(study,recipies,depthLimit,{'Makes':[ (\"study\",1)],'Sells':[ (\"study\",1)] })\n",
    "\n",
    "\n",
    "for idx, r in enumerate(recipies):\n",
    "    if(idx > (depthLimit*depthLimit)): break\n",
    "    for m in r[\"Makes\"]:\n",
    "        walk(NounTree[m[0]], recipies,0,r)\n",
    "        \n",
    "recipies"
   ]
  },
  {
   "cell_type": "code",
   "execution_count": 335,
   "id": "44c5e68d-7103-48dc-a0d2-c6bac0345f3f",
   "metadata": {},
   "outputs": [
    {
     "data": {
      "text/plain": [
       "4.0"
      ]
     },
     "execution_count": 335,
     "metadata": {},
     "output_type": "execute_result"
    }
   ],
   "source": [
    "math.pow(2,2)"
   ]
  },
  {
   "cell_type": "code",
   "execution_count": 302,
   "id": "1f6c46d9-5c87-4f59-b5b9-a1c8a63363e6",
   "metadata": {},
   "outputs": [
    {
     "data": {
      "text/plain": [
       "32"
      ]
     },
     "execution_count": 302,
     "metadata": {},
     "output_type": "execute_result"
    }
   ],
   "source": [
    "4 "
   ]
  },
  {
   "cell_type": "code",
   "execution_count": 334,
   "id": "a474e513-d304-4011-aa3a-1368e80bdf4d",
   "metadata": {},
   "outputs": [
    {
     "data": {
      "text/plain": [
       "0"
      ]
     },
     "execution_count": 334,
     "metadata": {},
     "output_type": "execute_result"
    }
   ],
   "source": [
    "1 & 2"
   ]
  },
  {
   "cell_type": "code",
   "execution_count": 319,
   "id": "04c86acd-50a2-436b-8e54-040f68a46702",
   "metadata": {},
   "outputs": [],
   "source": [
    "study = Teirs[4][0]"
   ]
  },
  {
   "cell_type": "code",
   "execution_count": 320,
   "id": "a5678ac1-ca87-4307-ad53-692b627f9b02",
   "metadata": {},
   "outputs": [
    {
     "data": {
      "text/plain": [
       "{'Tier': 4,\n",
       " 'Makes': 1.0,\n",
       " 'Needs': [('freezer', 6.0), ('leek', 6.0), ('blep', 6.0)],\n",
       " 'Name': 'study',\n",
       " 'Value': 1522471}"
      ]
     },
     "execution_count": 320,
     "metadata": {},
     "output_type": "execute_result"
    }
   ],
   "source": [
    "study"
   ]
  },
  {
   "cell_type": "code",
   "execution_count": null,
   "id": "47a61c3f-67c7-4d0a-b0c7-0e2216fa5ca3",
   "metadata": {},
   "outputs": [],
   "source": [
    " "
   ]
  }
 ],
 "metadata": {
  "kernelspec": {
   "display_name": "Python 3 (ipykernel)",
   "language": "python",
   "name": "python3"
  },
  "language_info": {
   "codemirror_mode": {
    "name": "ipython",
    "version": 3
   },
   "file_extension": ".py",
   "mimetype": "text/x-python",
   "name": "python",
   "nbconvert_exporter": "python",
   "pygments_lexer": "ipython3",
   "version": "3.8.9"
  }
 },
 "nbformat": 4,
 "nbformat_minor": 5
}
