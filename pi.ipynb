{
 "cells": [
  {
   "cell_type": "code",
   "execution_count": null,
   "id": "393f58ca-3ffd-4537-a72e-be7a0f85746a",
   "metadata": {},
   "outputs": [],
   "source": [
    "import Eveo\n",
    "Eveo.LoadYaml()"
   ]
  }
 ],
 "metadata": {
  "kernelspec": {
   "display_name": "Python 3 (ipykernel)",
   "language": "python",
   "name": "python3"
  },
  "language_info": {
   "codemirror_mode": {
    "name": "ipython",
    "version": 3
   },
   "file_extension": ".py",
   "mimetype": "text/x-python",
   "name": "python",
   "nbconvert_exporter": "python",
   "pygments_lexer": "ipython3",
   "version": "3.8.9"
  }
 },
 "nbformat": 4,
 "nbformat_minor": 5
}
