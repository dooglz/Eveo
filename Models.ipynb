{
 "cells": [
  {
   "cell_type": "code",
   "execution_count": 36,
   "id": "9edc63e7-2a7c-4d0d-af3e-395c00d048d7",
   "metadata": {},
   "outputs": [
    {
     "name": "stdout",
     "output_type": "stream",
     "text": [
      "The autoreload extension is already loaded. To reload it, use:\n",
      "  %reload_ext autoreload\n"
     ]
    }
   ],
   "source": [
    "%load_ext autoreload"
   ]
  },
  {
   "cell_type": "code",
   "execution_count": 402,
   "id": "14728d11-62e6-4e19-9e78-5c42cff04f25",
   "metadata": {},
   "outputs": [
    {
     "name": "stdout",
     "output_type": "stream",
     "text": [
      "Loading  PI_DATA.yaml\n"
     ]
    }
   ],
   "source": [
    "%autoreload\n",
    "import Pi_Models as pi\n",
    "import pprint\n",
    "pi.__PIDATA =0"
   ]
  },
  {
   "cell_type": "code",
   "execution_count": 352,
   "id": "859a968c-ed62-4927-9829-bc5bceca24af",
   "metadata": {},
   "outputs": [
    {
     "name": "stdout",
     "output_type": "stream",
     "text": [
      "Loading  PI_DATA.yaml\n"
     ]
    },
    {
     "data": {
      "text/plain": [
       "'EnrichedUrnium'"
      ]
     },
     "execution_count": 352,
     "metadata": {},
     "output_type": "execute_result"
    }
   ],
   "source": [
    "pi.GetPiItemName(44)"
   ]
  },
  {
   "cell_type": "code",
   "execution_count": 334,
   "id": "27ba55fc-28a7-48fc-ab23-e79aa4f84976",
   "metadata": {},
   "outputs": [
    {
     "name": "stdout",
     "output_type": "stream",
     "text": [
      "~ \u001b[95m2\u001b[0m * \u001b[92m44:\u001b[0mEnrichedUrnium \u001b[92m18,221.00\u001b[0misk~ \n"
     ]
    }
   ],
   "source": [
    "print(pi.ItemQty(44,2))"
   ]
  },
  {
   "cell_type": "code",
   "execution_count": 335,
   "id": "07b7f65d-cad3-45da-8297-39b69ad0755a",
   "metadata": {},
   "outputs": [
    {
     "name": "stdout",
     "output_type": "stream",
     "text": [
      "//x\u001b[95m1\u001b[0mruns, making ~ \u001b[95m3\u001b[0m * \u001b[92m2346:\u001b[0mSyntheticSynapss \u001b[92m218,747.00\u001b[0misk~ , Taking in:[~ \u001b[95m10\u001b[0m * \u001b[92m2312:\u001b[0mSuprtnsilePlastics \u001b[92m88,408.00\u001b[0misk~ , ~ \u001b[95m10\u001b[0m * \u001b[92m2319:\u001b[0mTstCulturs \u001b[92m49,665.00\u001b[0misk~ ]\\\\\n"
     ]
    }
   ],
   "source": [
    "print(pi.MadeItem(2346,1))"
   ]
  },
  {
   "cell_type": "code",
   "execution_count": 336,
   "id": "1c0cefe8-2d31-40a1-9ee3-3c1365dd8881",
   "metadata": {},
   "outputs": [
    {
     "name": "stdout",
     "output_type": "stream",
     "text": [
      "{'Buys': [~ \u001b[95m10\u001b[0m * \u001b[92m2312:\u001b[0mSuprtnsilePlastics \u001b[92m88,408.00\u001b[0misk~ ,\n",
      "          ~ \u001b[95m10\u001b[0m * \u001b[92m2319:\u001b[0mTstCulturs \u001b[92m49,665.00\u001b[0misk~ ],\n",
      " 'Exports': [~ \u001b[95m3\u001b[0m * \u001b[92m2346:\u001b[0mSyntheticSynapss \u001b[92m218,747.00\u001b[0misk~ ],\n",
      " 'Imports': [~ \u001b[95m10\u001b[0m * \u001b[92m2312:\u001b[0mSuprtnsilePlastics \u001b[92m88,408.00\u001b[0misk~ ,\n",
      "             ~ \u001b[95m10\u001b[0m * \u001b[92m2319:\u001b[0mTstCulturs \u001b[92m49,665.00\u001b[0misk~ ],\n",
      " 'Makes': [//x\u001b[95m1\u001b[0mruns, making ~ \u001b[95m3\u001b[0m * \u001b[92m2346:\u001b[0mSyntheticSynapss \u001b[92m218,747.00\u001b[0misk~ , Taking in:[~ \u001b[95m10\u001b[0m * \u001b[92m2312:\u001b[0mSuprtnsilePlastics \u001b[92m88,408.00\u001b[0misk~ , ~ \u001b[95m10\u001b[0m * \u001b[92m2319:\u001b[0mTstCulturs \u001b[92m49,665.00\u001b[0misk~ ]\\\\],\n",
      " 'Name': 'synthSyn-BB',\n",
      " 'Sells': [~ \u001b[95m3\u001b[0m * \u001b[92m2346:\u001b[0mSyntheticSynapss \u001b[92m218,747.00\u001b[0misk~ ]}\n"
     ]
    }
   ],
   "source": [
    "model = pi.ExampleModels[\"synthSyn-BB\"]\n",
    "pprint.pprint(model)"
   ]
  },
  {
   "cell_type": "code",
   "execution_count": 337,
   "id": "c0162589-eb7e-41ac-8515-38ad217da811",
   "metadata": {},
   "outputs": [
    {
     "data": {
      "text/plain": [
       "[~ \u001b[95m3\u001b[0m * \u001b[92m2346:\u001b[0mSyntheticSynapss \u001b[92m218,747.00\u001b[0misk~ ]"
      ]
     },
     "execution_count": 337,
     "metadata": {},
     "output_type": "execute_result"
    }
   ],
   "source": [
    "model[\"Sells\"]"
   ]
  },
  {
   "cell_type": "code",
   "execution_count": 338,
   "id": "f7049fa6-7930-4204-b5ef-0edadf87ae28",
   "metadata": {},
   "outputs": [
    {
     "data": {
      "text/plain": [
       "[~ \u001b[95m10\u001b[0m * \u001b[92m2312:\u001b[0mSuprtnsilePlastics \u001b[92m88,408.00\u001b[0misk~ ,\n",
       " ~ \u001b[95m10\u001b[0m * \u001b[92m2319:\u001b[0mTstCulturs \u001b[92m49,665.00\u001b[0misk~ ]"
      ]
     },
     "execution_count": 338,
     "metadata": {},
     "output_type": "execute_result"
    }
   ],
   "source": [
    "model[\"Buys\"]"
   ]
  },
  {
   "cell_type": "code",
   "execution_count": 339,
   "id": "543b02f1-0acc-4669-81d9-c78e67acac58",
   "metadata": {},
   "outputs": [
    {
     "data": {
      "text/plain": [
       "True"
      ]
     },
     "execution_count": 339,
     "metadata": {},
     "output_type": "execute_result"
    }
   ],
   "source": [
    "pi.ValidateModel(model)"
   ]
  },
  {
   "cell_type": "code",
   "execution_count": 340,
   "id": "7a45472b-1b70-471b-878b-ba93358f7d79",
   "metadata": {},
   "outputs": [
    {
     "data": {
      "text/plain": [
       "'33,405,250.03'"
      ]
     },
     "execution_count": 340,
     "metadata": {},
     "output_type": "execute_result"
    }
   ],
   "source": [
    "pi.formatPrice(pi.ScoreModel(model))"
   ]
  },
  {
   "cell_type": "code",
   "execution_count": null,
   "id": "e2b86086-870b-4321-9cfc-221f009c0e3d",
   "metadata": {},
   "outputs": [],
   "source": [
    "pi.DetailModel(model)"
   ]
  },
  {
   "cell_type": "code",
   "execution_count": 403,
   "id": "1d3e1b40-5921-46c3-8f2e-211a0f06fd5d",
   "metadata": {
    "scrolled": true,
    "tags": []
   },
   "outputs": [
    {
     "name": "stdout",
     "output_type": "stream",
     "text": [
      "\n",
      "--------------------   Buy all\n",
      "Loading  PI_DATA.yaml\n",
      "\u001b[33m---#----#----#---#-\n",
      "\u001b[0mDetailing A model Selling: [~ \u001b[95m1\u001b[0m * \u001b[92m2875:\u001b[0mStrileConduits \u001b[92m964,380.00\u001b[0misk~ ]\n",
      "\n",
      "---- #\n",
      " Buying:\n",
      " -~ \u001b[95m6\u001b[0m * \u001b[92m2351:\u001b[0mSmartfabUnits \u001b[92m350,423.00\u001b[0misk~ \n",
      " -~ \u001b[95m6\u001b[0m * \u001b[92m28974:\u001b[0mVaccins \u001b[92m280,893.00\u001b[0misk~ \n",
      " Buying total:\u001b[31m631,316.00\u001b[0m\n",
      "\n",
      " SellTax:\n",
      " -~ \u001b[95m1\u001b[0m * \u001b[92m2875:\u001b[0mStrileConduits \u001b[92m964,380.00\u001b[0misk~ \n",
      " SellTax total:\u001b[31m66,349.34\u001b[0m\n",
      "\n",
      " ImportFees:\n",
      " -~ \u001b[95m6\u001b[0m * \u001b[92m2351:\u001b[0mSmartfabUnits \u001b[92m350,423.00\u001b[0misk~ \n",
      " -~ \u001b[95m40\u001b[0m * \u001b[92m3645:\u001b[0mWatr \u001b[92m23,633.00\u001b[0misk~ \n",
      " -~ \u001b[95m6\u001b[0m * \u001b[92m28974:\u001b[0mVaccins \u001b[92m280,893.00\u001b[0misk~ \n",
      " ImportFees total:\u001b[31m90,000.00\u001b[0m\n",
      "\n",
      " ExportFees:\n",
      " -~ \u001b[95m1\u001b[0m * \u001b[92m2875:\u001b[0mStrileConduits \u001b[92m964,380.00\u001b[0misk~ \n",
      " ExportFees total:\u001b[31m60,000.00\u001b[0m\n",
      "\n",
      " MoneyMade:\n",
      " -~ \u001b[95m1\u001b[0m * \u001b[92m2875:\u001b[0mStrileConduits \u001b[92m964,380.00\u001b[0misk~ \n",
      " MoneyMade total:\u001b[92m964,380.00\u001b[0m\n",
      "\n",
      "---- #\n",
      "Out:\n",
      " Purchases       631,316\n",
      " ImportFees      90,000\n",
      " ExportFees      60,000\n",
      " SellTaxes       66,349\n",
      "\n",
      "Total Out:      \u001b[31m847,665\u001b[0m\n",
      "\n",
      "In:\n",
      "Sells:           \u001b[92m964,380\u001b[0m\n",
      "---- #\n",
      "Profit:          \u001b[92m116,715\u001b[0m\n",
      "Grid:            {'powergrid': 400, 'cpu': 1100, 'Facilities': 1}\n",
      "Planets:         0.06580915345498056\n",
      "True Scalability: 450\n",
      "True scaled Profit: \u001b[92m52,521,595\u001b[0m\n",
      "Units / hour:    450\n",
      "RefilTime PerPlanet: 9 hours\n",
      "\u001b[33m---#----#----#---#-\n",
      "\u001b[0m\n",
      "\n",
      "--------------------  Buy Smartfab, buy Liv/Virl, make vac \n",
      "\u001b[33m---#----#----#---#-\n",
      "\u001b[0mDetailing A model Selling: [~ \u001b[95m1\u001b[0m * \u001b[92m2875:\u001b[0mStrileConduits \u001b[92m964,380.00\u001b[0misk~ ]\n",
      "\n",
      "---- #\n",
      " Buying:\n",
      " -~ \u001b[95m6\u001b[0m * \u001b[92m2351:\u001b[0mSmartfabUnits \u001b[92m350,423.00\u001b[0misk~ \n",
      " -~ \u001b[95m10\u001b[0m * \u001b[92m3725:\u001b[0mLivstock \u001b[92m71,812.00\u001b[0misk~ \n",
      " -~ \u001b[95m10\u001b[0m * \u001b[92m3775:\u001b[0mVirlAgnt \u001b[92m54,176.00\u001b[0misk~ \n",
      " Buying total:\u001b[31m476,411.00\u001b[0m\n",
      "\n",
      " SellTax:\n",
      " -~ \u001b[95m1\u001b[0m * \u001b[92m2875:\u001b[0mStrileConduits \u001b[92m964,380.00\u001b[0misk~ \n",
      " SellTax total:\u001b[31m66,349.34\u001b[0m\n",
      "\n",
      " ImportFees:\n",
      " -~ \u001b[95m6\u001b[0m * \u001b[92m2351:\u001b[0mSmartfabUnits \u001b[92m350,423.00\u001b[0misk~ \n",
      " -~ \u001b[95m10\u001b[0m * \u001b[92m3725:\u001b[0mLivstock \u001b[92m71,812.00\u001b[0misk~ \n",
      " -~ \u001b[95m10\u001b[0m * \u001b[92m3775:\u001b[0mVirlAgnt \u001b[92m54,176.00\u001b[0misk~ \n",
      " -~ \u001b[95m40\u001b[0m * \u001b[92m3645:\u001b[0mWatr \u001b[92m23,633.00\u001b[0misk~ \n",
      " ImportFees total:\u001b[31m120,000.00\u001b[0m\n",
      "\n",
      " ExportFees:\n",
      " -~ \u001b[95m1\u001b[0m * \u001b[92m2875:\u001b[0mStrileConduits \u001b[92m964,380.00\u001b[0misk~ \n",
      " ExportFees total:\u001b[31m60,000.00\u001b[0m\n",
      "\n",
      " MoneyMade:\n",
      " -~ \u001b[95m1\u001b[0m * \u001b[92m2875:\u001b[0mStrileConduits \u001b[92m964,380.00\u001b[0misk~ \n",
      " MoneyMade total:\u001b[92m964,380.00\u001b[0m\n",
      "\n",
      "---- #\n",
      "Out:\n",
      " Purchases       476,411\n",
      " ImportFees      120,000\n",
      " ExportFees      60,000\n",
      " SellTaxes       66,349\n",
      "\n",
      "Total Out:      \u001b[31m722,760\u001b[0m\n",
      "\n",
      "In:\n",
      "Sells:           \u001b[92m964,380\u001b[0m\n",
      "---- #\n",
      "Profit:          \u001b[92m241,620\u001b[0m\n",
      "Grid:            {'powergrid': 1800, 'cpu': 2100, 'Facilities': 3}\n",
      "Planets:         0.12563565659587198\n",
      "True Scalability: 210\n",
      "True scaled Profit: \u001b[92m50,740,128\u001b[0m\n",
      "Units / hour:    210\n",
      "RefilTime PerPlanet: 21 hours\n",
      "\u001b[33m---#----#----#---#-\n",
      "\u001b[0m\n",
      "\n",
      "--------------------  Buy ConstructionBlocks/MiniElectrnics, buy Liv/Virl, make vac,Smartfab \n",
      "\u001b[33m---#----#----#---#-\n",
      "\u001b[0mDetailing A model Selling: [~ \u001b[95m1\u001b[0m * \u001b[92m2875:\u001b[0mStrileConduits \u001b[92m964,380.00\u001b[0misk~ ]\n",
      "\n",
      "---- #\n",
      " Buying:\n",
      " -~ \u001b[95m10\u001b[0m * \u001b[92m3725:\u001b[0mLivstock \u001b[92m71,812.00\u001b[0misk~ \n",
      " -~ \u001b[95m10\u001b[0m * \u001b[92m3775:\u001b[0mVirlAgnt \u001b[92m54,176.00\u001b[0misk~ \n",
      " -~ \u001b[95m10\u001b[0m * \u001b[92m3828:\u001b[0mConstructionBlocks \u001b[92m65,781.00\u001b[0misk~ \n",
      " -~ \u001b[95m10\u001b[0m * \u001b[92m9842:\u001b[0mMiniElectrnics \u001b[92m95,062.00\u001b[0misk~ \n",
      " Buying total:\u001b[31m286,831.00\u001b[0m\n",
      "\n",
      " SellTax:\n",
      " -~ \u001b[95m1\u001b[0m * \u001b[92m2875:\u001b[0mStrileConduits \u001b[92m964,380.00\u001b[0misk~ \n",
      " SellTax total:\u001b[31m66,349.34\u001b[0m\n",
      "\n",
      " ImportFees:\n",
      " -~ \u001b[95m10\u001b[0m * \u001b[92m3725:\u001b[0mLivstock \u001b[92m71,812.00\u001b[0misk~ \n",
      " -~ \u001b[95m10\u001b[0m * \u001b[92m3775:\u001b[0mVirlAgnt \u001b[92m54,176.00\u001b[0misk~ \n",
      " -~ \u001b[95m10\u001b[0m * \u001b[92m3828:\u001b[0mConstructionBlocks \u001b[92m65,781.00\u001b[0misk~ \n",
      " -~ \u001b[95m10\u001b[0m * \u001b[92m9842:\u001b[0mMiniElectrnics \u001b[92m95,062.00\u001b[0misk~ \n",
      " -~ \u001b[95m40\u001b[0m * \u001b[92m3645:\u001b[0mWatr \u001b[92m23,633.00\u001b[0misk~ \n",
      " ImportFees total:\u001b[31m150,000.00\u001b[0m\n",
      "\n",
      " ExportFees:\n",
      " -~ \u001b[95m1\u001b[0m * \u001b[92m2875:\u001b[0mStrileConduits \u001b[92m964,380.00\u001b[0misk~ \n",
      " ExportFees total:\u001b[31m60,000.00\u001b[0m\n",
      "\n",
      " MoneyMade:\n",
      " -~ \u001b[95m1\u001b[0m * \u001b[92m2875:\u001b[0mStrileConduits \u001b[92m964,380.00\u001b[0misk~ \n",
      " MoneyMade total:\u001b[92m964,380.00\u001b[0m\n",
      "\n",
      "---- #\n",
      "Out:\n",
      " Purchases       286,831\n",
      " ImportFees      150,000\n",
      " ExportFees      60,000\n",
      " SellTaxes       66,349\n",
      "\n",
      "Total Out:      \u001b[31m563,180\u001b[0m\n",
      "\n",
      "In:\n",
      "Sells:           \u001b[92m964,380\u001b[0m\n",
      "---- #\n",
      "Profit:          \u001b[92m401,200\u001b[0m\n",
      "Grid:            {'powergrid': 3200, 'cpu': 3100, 'Facilities': 5}\n",
      "Planets:         0.21476510067114093\n",
      "True Scalability: 120\n",
      "True scaled Profit: \u001b[92m48,143,959\u001b[0m\n",
      "Units / hour:    120\n",
      "RefilTime PerPlanet: 39 hours\n",
      "\u001b[33m---#----#----#---#-\n",
      "\u001b[0m\n",
      "\n",
      "---------------------- Buy Smartfab, make Liv/Virl, make vac \n",
      "\u001b[33m---#----#----#---#-\n",
      "\u001b[0mDetailing A model Selling: [~ \u001b[95m1\u001b[0m * \u001b[92m2875:\u001b[0mStrileConduits \u001b[92m964,380.00\u001b[0misk~ ]\n",
      "\n",
      "---- #\n",
      " Buying:\n",
      " -~ \u001b[95m6\u001b[0m * \u001b[92m2351:\u001b[0mSmartfabUnits \u001b[92m350,423.00\u001b[0misk~ \n",
      " Buying total:\u001b[31m350,423.00\u001b[0m\n",
      "\n",
      " SellTax:\n",
      " -~ \u001b[95m1\u001b[0m * \u001b[92m2875:\u001b[0mStrileConduits \u001b[92m964,380.00\u001b[0misk~ \n",
      " SellTax total:\u001b[31m66,349.34\u001b[0m\n",
      "\n",
      " ImportFees:\n",
      " -~ \u001b[95m6\u001b[0m * \u001b[92m2351:\u001b[0mSmartfabUnits \u001b[92m350,423.00\u001b[0misk~ \n",
      " -~ \u001b[95m10\u001b[0m * \u001b[92m3725:\u001b[0mLivstock \u001b[92m71,812.00\u001b[0misk~ \n",
      " -~ \u001b[95m10\u001b[0m * \u001b[92m3775:\u001b[0mVirlAgnt \u001b[92m54,176.00\u001b[0misk~ \n",
      " ImportFees total:\u001b[31m90,000.00\u001b[0m\n",
      "\n",
      " ExportFees:\n",
      " -~ \u001b[95m1\u001b[0m * \u001b[92m2875:\u001b[0mStrileConduits \u001b[92m964,380.00\u001b[0misk~ \n",
      " -~ \u001b[95m10\u001b[0m * \u001b[92m3725:\u001b[0mLivstock \u001b[92m71,812.00\u001b[0misk~ \n",
      " -~ \u001b[95m10\u001b[0m * \u001b[92m3775:\u001b[0mVirlAgnt \u001b[92m54,176.00\u001b[0misk~ \n",
      " -~ \u001b[95m40\u001b[0m * \u001b[92m3645:\u001b[0mWatr \u001b[92m23,633.00\u001b[0misk~ \n",
      " ExportFees total:\u001b[31m68,000.00\u001b[0m\n",
      "\n",
      " MoneyMade:\n",
      " -~ \u001b[95m1\u001b[0m * \u001b[92m2875:\u001b[0mStrileConduits \u001b[92m964,380.00\u001b[0misk~ \n",
      " MoneyMade total:\u001b[92m964,380.00\u001b[0m\n",
      "\n",
      "---- #\n",
      "Out:\n",
      " Purchases       350,423\n",
      " ImportFees      90,000\n",
      " ExportFees      68,000\n",
      " SellTaxes       66,349\n",
      "\n",
      "Total Out:      \u001b[31m574,772\u001b[0m\n",
      "\n",
      "In:\n",
      "Sells:           \u001b[92m964,380\u001b[0m\n",
      "---- #\n",
      "Profit:          \u001b[92m389,608\u001b[0m\n",
      "Grid:            {'powergrid': 8200, 'cpu': 3700, 'Facilities': 27}\n",
      "Planets:         0.5503355704697986\n",
      "True Scalability: 30\n",
      "True scaled Profit: \u001b[92m11,688,230\u001b[0m\n",
      "Units / hour:    30\n",
      "RefilTime PerPlanet: 181 hours\n",
      "\u001b[33m---#----#----#---#-\n",
      "\u001b[0m\n"
     ]
    }
   ],
   "source": [
    "SterileC = 2875\n",
    "Vaccine  = 28974\n",
    "SmartFab = 2351\n",
    "Water = 3645\n",
    "Livstock = 3725\n",
    "VirlAgnt = 3775\n",
    "Prteins  = 2395\n",
    "Biofuels = 2396\n",
    "Bactria = 2393\n",
    "Biomass = 3779\n",
    "ConstructionBlocks = 3828\n",
    "MiniElectrnics = 9842\n",
    "Coolnt = 9832\n",
    "Electrlyts = 2390\n",
    "Watr = 3645\n",
    "\n",
    "\n",
    "print(\"\\n--------------------   Buy all\")\n",
    "pi.ExampleModels[\"sterile-BB\"] = {\n",
    "    \"Name\":  \"sterile-BB\",\n",
    "    \"Buys\":   [ pi.ItemQty(SmartFab,6), pi.ItemQty(Vaccine,6) ],\n",
    "    \"Sells\":  [ pi.ItemQty(SterileC,1) ],\n",
    "    \"Makes\":  [ pi.MadeItem(SterileC,1) ],\n",
    "    \"Imports\":[ pi.ItemQty(SmartFab,6), pi.ItemQty(Water,40), pi.ItemQty(Vaccine,6) ],\n",
    "    \"Exports\":[ pi.ItemQty(SterileC,1) ]\n",
    "}\n",
    "pi.DetailModel(pi.ExampleModels[\"sterile-BB\"])\n",
    "\n",
    "\n",
    "print(\"\\n--------------------  Buy Smartfab, buy Liv/Virl, make vac \")\n",
    "pi.ExampleModels[\"sterile-BM\"] = {\n",
    "    \"Name\":  \"sterile-BM\",\n",
    "    \"Buys\":   [ pi.ItemQty(SmartFab,6), pi.ItemQty(Livstock,10), pi.ItemQty(VirlAgnt,10)  ],\n",
    "    \"Sells\":  [ pi.ItemQty(SterileC,1) ],\n",
    "    \"Makes\":  [ pi.MadeItem(SterileC,1),pi.MadeItem(Vaccine,2) ],\n",
    "    \"Imports\":[ pi.ItemQty(SmartFab,6), pi.ItemQty(Livstock,10), pi.ItemQty(VirlAgnt,10), pi.ItemQty(Water,40) ],\n",
    "    \"Exports\":[ pi.ItemQty(SterileC,1) ]\n",
    "}\n",
    "pi.DetailModel(pi.ExampleModels[\"sterile-BM\"])\n",
    "\n",
    "\n",
    "print(\"\\n--------------------  Buy ConstructionBlocks/MiniElectrnics, buy Liv/Virl, make vac,Smartfab \")\n",
    "pi.ExampleModels[\"sterile-MM\"] = {\n",
    "    \"Name\":  \"sterile-MM\",\n",
    "    \"Buys\":   [ pi.ItemQty(Livstock,10), pi.ItemQty(VirlAgnt,10), pi.ItemQty(ConstructionBlocks,10), pi.ItemQty(MiniElectrnics,10)    ],\n",
    "    \"Sells\":  [ pi.ItemQty(SterileC,1) ],\n",
    "    \"Makes\":  [ pi.MadeItem(SterileC,1),pi.MadeItem(Vaccine,2),pi.MadeItem(SmartFab,2) ],\n",
    "    \"Imports\":[ pi.ItemQty(Livstock,10), pi.ItemQty(VirlAgnt,10), pi.ItemQty(ConstructionBlocks,10), pi.ItemQty(MiniElectrnics,10), pi.ItemQty(Water,40) ],\n",
    "    \"Exports\":[ pi.ItemQty(SterileC,1) ]\n",
    "}\n",
    "pi.DetailModel(pi.ExampleModels[\"sterile-MM\"])\n",
    "\n",
    "\n",
    "print(\"\\n---------------------- Buy Smartfab, make Liv/Virl, make vac \")\n",
    "pi.ExampleModels[\"sterile-BMm\"] = {\n",
    "    \"Name\":  \"sterile-BMm\",\n",
    "    \"Buys\":   [ pi.ItemQty(SmartFab,6) ],\n",
    "    \"Sells\":  [ pi.ItemQty(SterileC,1) ],\n",
    "    \"Makes\":  [ pi.MadeItem(SterileC,1),pi.MadeItem(Vaccine,2), pi.MadeItem(Livstock,4), pi.MadeItem(VirlAgnt,4),pi.MadeItem(Prteins,4),pi.MadeItem(Biofuels,4),pi.MadeItem(Bactria,4),pi.MadeItem(Biomass,4) ],\n",
    "    \"Imports\":[ pi.ItemQty(SmartFab,6), pi.ItemQty(Livstock,10), pi.ItemQty(VirlAgnt,10) ],\n",
    "    \"Exports\":[ pi.ItemQty(SterileC,1), pi.ItemQty(Livstock,10), pi.ItemQty(VirlAgnt,10), pi.ItemQty(Water,40) ]\n",
    "}\n",
    "\n",
    "pi.DetailModel(pi.ExampleModels[\"sterile-BMm\"])\n",
    "\n",
    "\n",
    "\n",
    "pi.ExampleModels[\"Coolant-MM\"] = {\n",
    "    \"Name\":  \"Coolant-MM\",\n",
    "    \"Buys\":   [ ],\n",
    "    \"Sells\":  [ pi.ItemQty(Coolnt,1) ],\n",
    "    \"Makes\":  [ pi.MadeItem(Coolnt,1),pi.MadeItem(Electrlyts,1), pi.MadeItem(Watr,1)],\n",
    "    \"Imports\":[  ],\n",
    "    \"Exports\":[ pi.ItemQty(Coolnt,1)  ]\n",
    "}\n"
   ]
  },
  {
   "cell_type": "code",
   "execution_count": 433,
   "id": "44b5a479-b2f2-4674-be99-d9e08836d8fe",
   "metadata": {},
   "outputs": [
    {
     "name": "stdout",
     "output_type": "stream",
     "text": [
      "//x\u001b[95m1\u001b[0mruns, making ~ \u001b[95m1\u001b[0m * \u001b[92m2875:\u001b[0mStrileConduits \u001b[92m964,380.00\u001b[0misk~ , Taking in:[~ \u001b[95m6\u001b[0m * \u001b[92m2351:\u001b[0mSmartfabUnits \u001b[92m350,423.00\u001b[0misk~ , ~ \u001b[95m40\u001b[0m * \u001b[92m3645:\u001b[0mWatr \u001b[92m23,633.00\u001b[0misk~ , ~ \u001b[95m6\u001b[0m * \u001b[92m28974:\u001b[0mVaccins \u001b[92m280,893.00\u001b[0misk~ ]\\\\\n"
     ]
    }
   ],
   "source": [
    "print(pi.MadeItem(SterileC,1))"
   ]
  },
  {
   "cell_type": "code",
   "execution_count": 344,
   "id": "0660efb3-66d2-49bf-b69d-a1ce5f4ee3bb",
   "metadata": {},
   "outputs": [
    {
     "data": {
      "text/plain": [
       "{'amount': 5,\n",
       " 'amountperHour': 5.0,\n",
       " 'cycleTimeHours': 1.0,\n",
       " 'cycleTimeMinutes': 3600,\n",
       " 'importExportValue': 7200.0,\n",
       " 'inputs': [{'amount': 40,\n",
       "   'name': 'Chiral Structures',\n",
       "   'perhour': 40.0,\n",
       "   'typeID': 2401},\n",
       "  {'amount': 40, 'name': 'Silicon', 'perhour': 40.0, 'typeID': 9828}],\n",
       " 'materialCostEach': 8402.0,\n",
       " 'materialCostforRun': 42010,\n",
       " 'name': 'Miniature Electronics',\n",
       " 'priceEach': 9506.29,\n",
       " 'priceForRunQty': 47531.450000000004,\n",
       " 'profitEach': 1.1314318019519163,\n",
       " 'profitIskEach': 1104,\n",
       " 'profitIskRun': 5521,\n",
       " 'profitRun': 1.1314318019519163,\n",
       " 'shortName': 'MiniElectrnics',\n",
       " 'tech': 2,\n",
       " 'typeID': 9842,\n",
       " 'volumeEach': 1.5}"
      ]
     },
     "execution_count": 344,
     "metadata": {},
     "output_type": "execute_result"
    }
   ],
   "source": [
    "pi.GetPiData()[MiniElectrnics]"
   ]
  },
  {
   "cell_type": "code",
   "execution_count": 345,
   "id": "9117cd07-f661-42dc-864f-93df5b527247",
   "metadata": {},
   "outputs": [
    {
     "data": {
      "text/plain": [
       "15"
      ]
     },
     "execution_count": 345,
     "metadata": {},
     "output_type": "execute_result"
    }
   ],
   "source": [
    "pi.CalcMaxModelScalePerPlanet(pi.ExampleModels[\"sterile-BB\"])"
   ]
  },
  {
   "cell_type": "code",
   "execution_count": 1,
   "id": "df14da94-5700-4bcb-8365-2c7c7a788c85",
   "metadata": {
    "tags": []
   },
   "outputs": [
    {
     "ename": "NameError",
     "evalue": "name 'pi' is not defined",
     "output_type": "error",
     "traceback": [
      "\u001b[0;31m---------------------------------------------------------------------------\u001b[0m",
      "\u001b[0;31mNameError\u001b[0m                                 Traceback (most recent call last)",
      "\u001b[0;32m/var/folders/86/2wpb80hn3gb9zg29c7xggqy40000gn/T/ipykernel_36836/795972632.py\u001b[0m in \u001b[0;36m<module>\u001b[0;34m\u001b[0m\n\u001b[1;32m      1\u001b[0m \u001b[0;31m#pi.DetailModel(pi.ExampleModels[\"sterile-MM\"])\u001b[0m\u001b[0;34m\u001b[0m\u001b[0;34m\u001b[0m\u001b[0;34m\u001b[0m\u001b[0m\n\u001b[0;32m----> 2\u001b[0;31m \u001b[0mpi\u001b[0m\u001b[0;34m.\u001b[0m\u001b[0mDetailModel\u001b[0m\u001b[0;34m(\u001b[0m\u001b[0mpi\u001b[0m\u001b[0;34m.\u001b[0m\u001b[0mExampleModels\u001b[0m\u001b[0;34m[\u001b[0m\u001b[0;34m\"Coolant-BM\"\u001b[0m\u001b[0;34m]\u001b[0m\u001b[0;34m)\u001b[0m\u001b[0;34m\u001b[0m\u001b[0;34m\u001b[0m\u001b[0m\n\u001b[0m",
      "\u001b[0;31mNameError\u001b[0m: name 'pi' is not defined"
     ]
    }
   ],
   "source": [
    "#pi.DetailModel(pi.ExampleModels[\"sterile-MM\"])\n",
    "pi.DetailModel(pi.ExampleModels[\"Coolant-BM\"])\n"
   ]
  },
  {
   "cell_type": "code",
   "execution_count": 432,
   "id": "117f6a1b-25bb-4c43-92e7-97fea50a1c6e",
   "metadata": {},
   "outputs": [
    {
     "name": "stdout",
     "output_type": "stream",
     "text": [
      "name          fullProfit Scale 1PlanetProfit refil\n",
      "sterile-BB    \u001b[92m84,741,595 \u001b[0m 450   \u001b[92m2,824,720 \u001b[0m       9\n",
      "sterile-BM    \u001b[92m73,210,128 \u001b[0m 210   \u001b[92m2,440,338 \u001b[0m      21\n",
      "sterile-MM    \u001b[92m65,231,959 \u001b[0m 120   \u001b[92m2,174,399 \u001b[0m      39\n",
      "synthSyn-BB   \u001b[92m33,405,250 \u001b[0m 630   \u001b[92m1,113,508 \u001b[0m      19\n",
      "sterile-BMm   \u001b[92m14,010,230 \u001b[0m 30    \u001b[92m467,008   \u001b[0m     181\n",
      "Coolant-MM    \u001b[92m4,804,412  \u001b[0m 540   \u001b[92m160,147   \u001b[0m     666\n"
     ]
    }
   ],
   "source": [
    "print(\"name\".ljust(13),\"fullProfit\",\"Scale\",\"1PlanetProfit\", \"refil\")\n",
    "for p in list(sorted(list(pi.ExampleModels.values()),key=lambda a_model:(pi.ScoreModel(a_model)), reverse=True )):\n",
    "    #print(p[\"tech\"],str(p[\"typeID\"]).ljust(6),Eveo.formatPrice(p[\"priceEach\"],0).ljust(10),p[\"name\"][:21].ljust(21),\"\\t\",p[\"shortName\"])\n",
    "    print(p[\"Name\"].ljust(13), \n",
    "          pi.TCM( pi.formatPrice( pi.ScoreModel(p),0).ljust(11),\"BG\" ),\n",
    "          str(pi.CalcModelTruescale(p)).ljust(5), \n",
    "          pi.TCM( pi.formatPrice(pi.CalcModelProfitPerPlanet(p),0).ljust(10),\"BG\"),\n",
    "          str(pi.math.floor(pi.CalcModelRefilTimePerPlanet(p))).rjust(7))"
   ]
  },
  {
   "cell_type": "code",
   "execution_count": 393,
   "id": "871ff8b0-4cb0-425c-beb5-ea3d7d38482b",
   "metadata": {},
   "outputs": [
    {
     "data": {
      "text/plain": [
       "'46,967,010,480.00'"
      ]
     },
     "execution_count": 393,
     "metadata": {},
     "output_type": "execute_result"
    }
   ],
   "source": [
    "pi.formatPrice(65231959 * 24 * 30)"
   ]
  },
  {
   "cell_type": "code",
   "execution_count": 354,
   "id": "1a83e315-b70b-4d73-8471-ad05cd686c98",
   "metadata": {},
   "outputs": [
    {
     "data": {
      "text/plain": [
       "{'amount': 0,\n",
       " 'importExportValue': 5,\n",
       " 'inputs': [],\n",
       " 'name': 'Ionic Solutions',\n",
       " 'priceEach': 3.41,\n",
       " 'shortName': 'IonicSolutions',\n",
       " 'tech': 0,\n",
       " 'typeID': 2309,\n",
       " 'volumeEach': 0.01}"
      ]
     },
     "execution_count": 354,
     "metadata": {},
     "output_type": "execute_result"
    }
   ],
   "source": [
    "pi.GetPiData()[2309]"
   ]
  },
  {
   "cell_type": "code",
   "execution_count": 381,
   "id": "7e3faa34-da9f-4a89-8a2a-c6dfa89dff10",
   "metadata": {},
   "outputs": [
    {
     "name": "stdout",
     "output_type": "stream",
     "text": [
      "75.2\n",
      "159.5744680851064\n",
      "39.8936170212766\n"
     ]
    }
   ],
   "source": [
    "model = pi.ExampleModels[\"sterile-MM\"]\n",
    "print(pi.CalcModelImportM3(model))\n",
    "print(pi.CalcModelRefilTimeOneRun(model))\n",
    "print(pi.CalcModelRefilTimePerPlanet(model))"
   ]
  },
  {
   "cell_type": "code",
   "execution_count": 364,
   "id": "7bef1581-80b8-4b01-a461-0047c32db7f0",
   "metadata": {},
   "outputs": [
    {
     "data": {
      "text/plain": [
       "15.2"
      ]
     },
     "execution_count": 364,
     "metadata": {},
     "output_type": "execute_result"
    }
   ],
   "source": [
    "pi.CalcModelRefilTimePerPlanet(pi.ExampleModels[\"sterile-MM\"])"
   ]
  },
  {
   "cell_type": "code",
   "execution_count": null,
   "id": "41cd36db-f14b-45da-bdde-09b41b645bb1",
   "metadata": {},
   "outputs": [],
   "source": []
  }
 ],
 "metadata": {
  "kernelspec": {
   "display_name": "Python 3 (ipykernel)",
   "language": "python",
   "name": "python3"
  },
  "language_info": {
   "codemirror_mode": {
    "name": "ipython",
    "version": 3
   },
   "file_extension": ".py",
   "mimetype": "text/x-python",
   "name": "python",
   "nbconvert_exporter": "python",
   "pygments_lexer": "ipython3",
   "version": "3.8.9"
  }
 },
 "nbformat": 4,
 "nbformat_minor": 5
}
