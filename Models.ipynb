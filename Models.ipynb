{
 "cells": [
  {
   "cell_type": "code",
   "execution_count": null,
   "id": "9edc63e7-2a7c-4d0d-af3e-395c00d048d7",
   "metadata": {},
   "outputs": [],
   "source": [
    "%load_ext autoreload"
   ]
  },
  {
   "cell_type": "code",
   "execution_count": 153,
   "id": "14728d11-62e6-4e19-9e78-5c42cff04f25",
   "metadata": {},
   "outputs": [
    {
     "name": "stdout",
     "output_type": "stream",
     "text": [
      "Loading  PI_DATA.yaml\n"
     ]
    }
   ],
   "source": [
    "%autoreload\n",
    "import Pi_Models as pi\n",
    "import pprint"
   ]
  },
  {
   "cell_type": "code",
   "execution_count": 148,
   "id": "859a968c-ed62-4927-9829-bc5bceca24af",
   "metadata": {},
   "outputs": [
    {
     "data": {
      "text/plain": [
       "'EnrichedUrnium'"
      ]
     },
     "execution_count": 148,
     "metadata": {},
     "output_type": "execute_result"
    }
   ],
   "source": [
    "pi.GetPiItemName(44)"
   ]
  },
  {
   "cell_type": "code",
   "execution_count": 149,
   "id": "27ba55fc-28a7-48fc-ab23-e79aa4f84976",
   "metadata": {},
   "outputs": [
    {
     "name": "stdout",
     "output_type": "stream",
     "text": [
      "~\u001b[95m2\u001b[0m*\u001b[32;46m44\u001b[0mEnrichedUrnium \u001b[92m18,158\u001b[0misk~\n"
     ]
    }
   ],
   "source": [
    "print(pi.ItemQty(44,2))"
   ]
  },
  {
   "cell_type": "code",
   "execution_count": 150,
   "id": "07b7f65d-cad3-45da-8297-39b69ad0755a",
   "metadata": {},
   "outputs": [
    {
     "name": "stdout",
     "output_type": "stream",
     "text": [
      "//x\u001b[95m1\u001b[0mruns, making ~\u001b[95m3\u001b[0m*\u001b[32;46m2346\u001b[0mSyntheticSynapss \u001b[92m216,965\u001b[0misk~, Taking in:[~\u001b[95m10\u001b[0m*\u001b[32;46m2312\u001b[0mSuprtnsilePlastics \u001b[92m91,823\u001b[0misk~, ~\u001b[95m10\u001b[0m*\u001b[32;46m2319\u001b[0mTstCulturs \u001b[92m50,062\u001b[0misk~]\\\\\n"
     ]
    }
   ],
   "source": [
    "print(pi.MadeItem(2346,1))"
   ]
  },
  {
   "cell_type": "code",
   "execution_count": 154,
   "id": "1c0cefe8-2d31-40a1-9ee3-3c1365dd8881",
   "metadata": {},
   "outputs": [
    {
     "name": "stdout",
     "output_type": "stream",
     "text": [
      "{'Buys': [~\u001b[95m10\u001b[0m*\u001b[32;46m2312\u001b[0mSuprtnsilePlastics \u001b[92m91,823.00\u001b[0misk~,\n",
      "          ~\u001b[95m10\u001b[0m*\u001b[32;46m2319\u001b[0mTstCulturs \u001b[92m50,062.00\u001b[0misk~],\n",
      " 'Exports': [~\u001b[95m3\u001b[0m*\u001b[32;46m2346\u001b[0mSyntheticSynapss \u001b[92m216,965.00\u001b[0misk~],\n",
      " 'Imports': [~\u001b[95m10\u001b[0m*\u001b[32;46m2312\u001b[0mSuprtnsilePlastics \u001b[92m91,823.00\u001b[0misk~,\n",
      "             ~\u001b[95m10\u001b[0m*\u001b[32;46m2319\u001b[0mTstCulturs \u001b[92m50,062.00\u001b[0misk~],\n",
      " 'Makes': [//x\u001b[95m1\u001b[0mruns, making ~\u001b[95m3\u001b[0m*\u001b[32;46m2346\u001b[0mSyntheticSynapss \u001b[92m216,965.00\u001b[0misk~, Taking in:[~\u001b[95m10\u001b[0m*\u001b[32;46m2312\u001b[0mSuprtnsilePlastics \u001b[92m91,823.00\u001b[0misk~, ~\u001b[95m10\u001b[0m*\u001b[32;46m2319\u001b[0mTstCulturs \u001b[92m50,062.00\u001b[0misk~]\\\\],\n",
      " 'Scalability': 30,\n",
      " 'Sells': [~\u001b[95m3\u001b[0m*\u001b[32;46m2346\u001b[0mSyntheticSynapss \u001b[92m216,965.00\u001b[0misk~]}\n"
     ]
    }
   ],
   "source": [
    "pprint.pprint( pi.Model)"
   ]
  },
  {
   "cell_type": "code",
   "execution_count": null,
   "id": "f77203b2-ff2d-4663-ac6e-f80177851b70",
   "metadata": {},
   "outputs": [],
   "source": []
  }
 ],
 "metadata": {
  "kernelspec": {
   "display_name": "Python 3 (ipykernel)",
   "language": "python",
   "name": "python3"
  },
  "language_info": {
   "codemirror_mode": {
    "name": "ipython",
    "version": 3
   },
   "file_extension": ".py",
   "mimetype": "text/x-python",
   "name": "python",
   "nbconvert_exporter": "python",
   "pygments_lexer": "ipython3",
   "version": "3.8.9"
  }
 },
 "nbformat": 4,
 "nbformat_minor": 5
}
